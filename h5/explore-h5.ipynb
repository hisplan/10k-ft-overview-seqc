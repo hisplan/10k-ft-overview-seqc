{
 "cells": [
  {
   "cell_type": "markdown",
   "metadata": {},
   "source": [
    "# Explore ReadArray (.h5)"
   ]
  },
  {
   "cell_type": "code",
   "execution_count": 1,
   "metadata": {
    "ExecuteTime": {
     "end_time": "2021-08-21T12:19:04.901476Z",
     "start_time": "2021-08-21T12:19:04.537662Z"
    }
   },
   "outputs": [],
   "source": [
    "import os\n",
    "import pandas as pd"
   ]
  },
  {
   "cell_type": "code",
   "execution_count": 2,
   "metadata": {
    "ExecuteTime": {
     "end_time": "2021-08-21T12:19:05.029627Z",
     "start_time": "2021-08-21T12:19:04.903421Z"
    }
   },
   "outputs": [
    {
     "name": "stdout",
     "output_type": "stream",
     "text": [
      "\u001b[01;34m..\u001b[00m\r\n",
      "├── README.md\r\n",
      "├── \u001b[01;34mdataset\u001b[00m\r\n",
      "├── \u001b[01;34mdocs\u001b[00m\r\n",
      "├── \u001b[01;34mgtf\u001b[00m\r\n",
      "├── \u001b[01;34mh5\u001b[00m\r\n",
      "└── \u001b[01;34mvideos\u001b[00m\r\n",
      "\r\n",
      "5 directories, 1 file\r\n"
     ]
    }
   ],
   "source": [
    "!tree .. -L 1"
   ]
  },
  {
   "cell_type": "code",
   "execution_count": 3,
   "metadata": {
    "ExecuteTime": {
     "end_time": "2021-08-21T12:19:05.038527Z",
     "start_time": "2021-08-21T12:19:05.035178Z"
    }
   },
   "outputs": [],
   "source": [
    "path_data = \"../dataset/\"\n",
    "path_gtf = \"../gtf/annotations.gtf.gz\"\n",
    "\n",
    "# sorted by read name (required for SEQC)\n",
    "path_aligned_bam = os.path.join(path_data, \"test_Aligned.out.bam\")\n",
    "\n",
    "# sorted by coordinate (required for pysam)\n",
    "path_aligned_sorted_bam = os.path.join(path_data, \"test_Aligned.out.sorted.bam\")\n",
    "\n",
    "\n",
    "path_h5 = os.path.join(path_data, \"test.h5\")"
   ]
  },
  {
   "cell_type": "code",
   "execution_count": 4,
   "metadata": {
    "ExecuteTime": {
     "end_time": "2021-08-21T12:19:05.165709Z",
     "start_time": "2021-08-21T12:19:05.040554Z"
    }
   },
   "outputs": [
    {
     "name": "stdout",
     "output_type": "stream",
     "text": [
      "\u001b[31msort-bam.sh\u001b[m\u001b[m                     test_mini_summary.pdf\r\n",
      "test.h5                         test_seqc_log.txt\r\n",
      "test_Aligned.out.bam            test_sparse_counts_barcodes.csv\r\n",
      "test_Aligned.out.sorted.bam     test_sparse_counts_genes.csv\r\n",
      "test_Aligned.out.sorted.bam.bai test_sparse_molecule_counts.mtx\r\n",
      "test_alignment_summary.txt      test_sparse_read_counts.mtx\r\n",
      "test_cb-correction.csv.gz       test_summary.tar.gz\r\n",
      "test_dense.csv\r\n"
     ]
    }
   ],
   "source": [
    "!ls \"$path_data\""
   ]
  },
  {
   "cell_type": "markdown",
   "metadata": {},
   "source": [
    "## Load ReadArray (*.h5)"
   ]
  },
  {
   "cell_type": "code",
   "execution_count": 5,
   "metadata": {
    "ExecuteTime": {
     "end_time": "2021-08-21T12:19:05.945607Z",
     "start_time": "2021-08-21T12:19:05.167436Z"
    }
   },
   "outputs": [],
   "source": [
    "from seqc.read_array import ReadArray"
   ]
  },
  {
   "cell_type": "code",
   "execution_count": 6,
   "metadata": {
    "ExecuteTime": {
     "end_time": "2021-08-21T12:19:05.971098Z",
     "start_time": "2021-08-21T12:19:05.948491Z"
    }
   },
   "outputs": [],
   "source": [
    "ra = ReadArray.load(path_h5)"
   ]
  },
  {
   "cell_type": "code",
   "execution_count": 7,
   "metadata": {
    "ExecuteTime": {
     "end_time": "2021-08-21T12:19:05.981994Z",
     "start_time": "2021-08-21T12:19:05.972833Z"
    }
   },
   "outputs": [
    {
     "data": {
      "text/plain": [
       "<seqc.read_array.ReadArray at 0x7f9ee9268290>"
      ]
     },
     "execution_count": 7,
     "metadata": {},
     "output_type": "execute_result"
    }
   ],
   "source": [
    "ra"
   ]
  },
  {
   "cell_type": "markdown",
   "metadata": {},
   "source": [
    "## Attributes"
   ]
  },
  {
   "cell_type": "markdown",
   "metadata": {},
   "source": [
    "### ra.filter_codes"
   ]
  },
  {
   "cell_type": "code",
   "execution_count": 8,
   "metadata": {
    "ExecuteTime": {
     "end_time": "2021-08-21T12:19:05.987313Z",
     "start_time": "2021-08-21T12:19:05.983521Z"
    }
   },
   "outputs": [
    {
     "data": {
      "text/plain": [
       "{'no_gene': 1,\n",
       " 'rmt_error': 2,\n",
       " 'cell_error': 4,\n",
       " 'low_polyt': 8,\n",
       " 'gene_not_unique': 16,\n",
       " 'primer_missing': 32,\n",
       " 'lonely_triplet': 64}"
      ]
     },
     "execution_count": 8,
     "metadata": {},
     "output_type": "execute_result"
    }
   ],
   "source": [
    "ra.filter_codes"
   ]
  },
  {
   "cell_type": "markdown",
   "metadata": {},
   "source": [
    "### ra.data"
   ]
  },
  {
   "cell_type": "code",
   "execution_count": 9,
   "metadata": {
    "ExecuteTime": {
     "end_time": "2021-08-21T12:19:05.993944Z",
     "start_time": "2021-08-21T12:19:05.989280Z"
    }
   },
   "outputs": [
    {
     "data": {
      "text/plain": [
       "array([(1, 200983461452598, 38446774684, 0),\n",
       "       (1, 232448540961013, 40377936093, 0),\n",
       "       (0, 200570500499883, 41267181429, 0), ...,\n",
       "       (1, 169038985719156, 33098951083, 0),\n",
       "       (1, 231840668564334, 31598787309, 0),\n",
       "       (1, 161332457818475, 32723551981, 0)],\n",
       "      dtype=[('status', 'u1'), ('cell', '<i8'), ('rmt', '<i8'), ('n_poly_t', 'u1')])"
      ]
     },
     "execution_count": 9,
     "metadata": {},
     "output_type": "execute_result"
    }
   ],
   "source": [
    "ra.data"
   ]
  },
  {
   "cell_type": "code",
   "execution_count": 10,
   "metadata": {
    "ExecuteTime": {
     "end_time": "2021-08-21T12:19:06.000412Z",
     "start_time": "2021-08-21T12:19:05.996176Z"
    }
   },
   "outputs": [
    {
     "data": {
      "text/plain": [
       "252735"
      ]
     },
     "execution_count": 10,
     "metadata": {},
     "output_type": "execute_result"
    }
   ],
   "source": [
    "len(ra.data)"
   ]
  },
  {
   "cell_type": "code",
   "execution_count": 11,
   "metadata": {
    "ExecuteTime": {
     "end_time": "2021-08-21T12:19:06.021362Z",
     "start_time": "2021-08-21T12:19:06.002223Z"
    }
   },
   "outputs": [
    {
     "data": {
      "text/html": [
       "<div>\n",
       "<style scoped>\n",
       "    .dataframe tbody tr th:only-of-type {\n",
       "        vertical-align: middle;\n",
       "    }\n",
       "\n",
       "    .dataframe tbody tr th {\n",
       "        vertical-align: top;\n",
       "    }\n",
       "\n",
       "    .dataframe thead th {\n",
       "        text-align: right;\n",
       "    }\n",
       "</style>\n",
       "<table border=\"1\" class=\"dataframe\">\n",
       "  <thead>\n",
       "    <tr style=\"text-align: right;\">\n",
       "      <th></th>\n",
       "      <th>status</th>\n",
       "      <th>cell</th>\n",
       "      <th>rmt</th>\n",
       "      <th>n_poly_t</th>\n",
       "    </tr>\n",
       "  </thead>\n",
       "  <tbody>\n",
       "    <tr>\n",
       "      <th>0</th>\n",
       "      <td>1</td>\n",
       "      <td>200983461452598</td>\n",
       "      <td>38446774684</td>\n",
       "      <td>0</td>\n",
       "    </tr>\n",
       "    <tr>\n",
       "      <th>1</th>\n",
       "      <td>1</td>\n",
       "      <td>232448540961013</td>\n",
       "      <td>40377936093</td>\n",
       "      <td>0</td>\n",
       "    </tr>\n",
       "    <tr>\n",
       "      <th>2</th>\n",
       "      <td>0</td>\n",
       "      <td>200570500499883</td>\n",
       "      <td>41267181429</td>\n",
       "      <td>0</td>\n",
       "    </tr>\n",
       "    <tr>\n",
       "      <th>3</th>\n",
       "      <td>1</td>\n",
       "      <td>231772364696924</td>\n",
       "      <td>41564723102</td>\n",
       "      <td>0</td>\n",
       "    </tr>\n",
       "    <tr>\n",
       "      <th>4</th>\n",
       "      <td>1</td>\n",
       "      <td>227499945647347</td>\n",
       "      <td>39153163702</td>\n",
       "      <td>0</td>\n",
       "    </tr>\n",
       "    <tr>\n",
       "      <th>...</th>\n",
       "      <td>...</td>\n",
       "      <td>...</td>\n",
       "      <td>...</td>\n",
       "      <td>...</td>\n",
       "    </tr>\n",
       "    <tr>\n",
       "      <th>252730</th>\n",
       "      <td>1</td>\n",
       "      <td>169082619287347</td>\n",
       "      <td>49237838683</td>\n",
       "      <td>0</td>\n",
       "    </tr>\n",
       "    <tr>\n",
       "      <th>252731</th>\n",
       "      <td>1</td>\n",
       "      <td>164701771590046</td>\n",
       "      <td>57689455348</td>\n",
       "      <td>0</td>\n",
       "    </tr>\n",
       "    <tr>\n",
       "      <th>252732</th>\n",
       "      <td>1</td>\n",
       "      <td>169038985719156</td>\n",
       "      <td>33098951083</td>\n",
       "      <td>0</td>\n",
       "    </tr>\n",
       "    <tr>\n",
       "      <th>252733</th>\n",
       "      <td>1</td>\n",
       "      <td>231840668564334</td>\n",
       "      <td>31598787309</td>\n",
       "      <td>0</td>\n",
       "    </tr>\n",
       "    <tr>\n",
       "      <th>252734</th>\n",
       "      <td>1</td>\n",
       "      <td>161332457818475</td>\n",
       "      <td>32723551981</td>\n",
       "      <td>0</td>\n",
       "    </tr>\n",
       "  </tbody>\n",
       "</table>\n",
       "<p>252735 rows × 4 columns</p>\n",
       "</div>"
      ],
      "text/plain": [
       "        status             cell          rmt  n_poly_t\n",
       "0            1  200983461452598  38446774684         0\n",
       "1            1  232448540961013  40377936093         0\n",
       "2            0  200570500499883  41267181429         0\n",
       "3            1  231772364696924  41564723102         0\n",
       "4            1  227499945647347  39153163702         0\n",
       "...        ...              ...          ...       ...\n",
       "252730       1  169082619287347  49237838683         0\n",
       "252731       1  164701771590046  57689455348         0\n",
       "252732       1  169038985719156  33098951083         0\n",
       "252733       1  231840668564334  31598787309         0\n",
       "252734       1  161332457818475  32723551981         0\n",
       "\n",
       "[252735 rows x 4 columns]"
      ]
     },
     "execution_count": 11,
     "metadata": {},
     "output_type": "execute_result"
    }
   ],
   "source": [
    "df_data = pd.DataFrame(ra.data)\n",
    "df_data"
   ]
  },
  {
   "cell_type": "markdown",
   "metadata": {},
   "source": [
    "### ra.genes"
   ]
  },
  {
   "cell_type": "code",
   "execution_count": 12,
   "metadata": {
    "ExecuteTime": {
     "end_time": "2021-08-21T12:19:06.026851Z",
     "start_time": "2021-08-21T12:19:06.022762Z"
    }
   },
   "outputs": [
    {
     "data": {
      "text/plain": [
       "array([     0,      0, 225067, ...,      0,      0,      0], dtype=int32)"
      ]
     },
     "execution_count": 12,
     "metadata": {},
     "output_type": "execute_result"
    }
   ],
   "source": [
    "ra.genes"
   ]
  },
  {
   "cell_type": "code",
   "execution_count": 13,
   "metadata": {
    "ExecuteTime": {
     "end_time": "2021-08-21T12:19:06.032507Z",
     "start_time": "2021-08-21T12:19:06.028401Z"
    }
   },
   "outputs": [
    {
     "data": {
      "text/plain": [
       "252735"
      ]
     },
     "execution_count": 13,
     "metadata": {},
     "output_type": "execute_result"
    }
   ],
   "source": [
    "len(ra.genes)"
   ]
  },
  {
   "cell_type": "code",
   "execution_count": 14,
   "metadata": {
    "ExecuteTime": {
     "end_time": "2021-08-21T12:19:06.043179Z",
     "start_time": "2021-08-21T12:19:06.034604Z"
    }
   },
   "outputs": [
    {
     "data": {
      "text/html": [
       "<div>\n",
       "<style scoped>\n",
       "    .dataframe tbody tr th:only-of-type {\n",
       "        vertical-align: middle;\n",
       "    }\n",
       "\n",
       "    .dataframe tbody tr th {\n",
       "        vertical-align: top;\n",
       "    }\n",
       "\n",
       "    .dataframe thead th {\n",
       "        text-align: right;\n",
       "    }\n",
       "</style>\n",
       "<table border=\"1\" class=\"dataframe\">\n",
       "  <thead>\n",
       "    <tr style=\"text-align: right;\">\n",
       "      <th></th>\n",
       "      <th>genes</th>\n",
       "    </tr>\n",
       "  </thead>\n",
       "  <tbody>\n",
       "    <tr>\n",
       "      <th>0</th>\n",
       "      <td>0</td>\n",
       "    </tr>\n",
       "    <tr>\n",
       "      <th>1</th>\n",
       "      <td>0</td>\n",
       "    </tr>\n",
       "    <tr>\n",
       "      <th>2</th>\n",
       "      <td>225067</td>\n",
       "    </tr>\n",
       "    <tr>\n",
       "      <th>3</th>\n",
       "      <td>0</td>\n",
       "    </tr>\n",
       "    <tr>\n",
       "      <th>4</th>\n",
       "      <td>0</td>\n",
       "    </tr>\n",
       "    <tr>\n",
       "      <th>...</th>\n",
       "      <td>...</td>\n",
       "    </tr>\n",
       "    <tr>\n",
       "      <th>252730</th>\n",
       "      <td>0</td>\n",
       "    </tr>\n",
       "    <tr>\n",
       "      <th>252731</th>\n",
       "      <td>0</td>\n",
       "    </tr>\n",
       "    <tr>\n",
       "      <th>252732</th>\n",
       "      <td>0</td>\n",
       "    </tr>\n",
       "    <tr>\n",
       "      <th>252733</th>\n",
       "      <td>0</td>\n",
       "    </tr>\n",
       "    <tr>\n",
       "      <th>252734</th>\n",
       "      <td>0</td>\n",
       "    </tr>\n",
       "  </tbody>\n",
       "</table>\n",
       "<p>252735 rows × 1 columns</p>\n",
       "</div>"
      ],
      "text/plain": [
       "         genes\n",
       "0            0\n",
       "1            0\n",
       "2       225067\n",
       "3            0\n",
       "4            0\n",
       "...        ...\n",
       "252730       0\n",
       "252731       0\n",
       "252732       0\n",
       "252733       0\n",
       "252734       0\n",
       "\n",
       "[252735 rows x 1 columns]"
      ]
     },
     "execution_count": 14,
     "metadata": {},
     "output_type": "execute_result"
    }
   ],
   "source": [
    "df_genes = pd.DataFrame(ra.genes, columns=[\"genes\"])\n",
    "df_genes"
   ]
  },
  {
   "cell_type": "markdown",
   "metadata": {},
   "source": [
    "### ra.positions"
   ]
  },
  {
   "cell_type": "code",
   "execution_count": 15,
   "metadata": {
    "ExecuteTime": {
     "end_time": "2021-08-21T12:19:06.049048Z",
     "start_time": "2021-08-21T12:19:06.044674Z"
    }
   },
   "outputs": [
    {
     "data": {
      "text/plain": [
       "array([       0,        0, 15611873, ...,        0,        0,        0],\n",
       "      dtype=int32)"
      ]
     },
     "execution_count": 15,
     "metadata": {},
     "output_type": "execute_result"
    }
   ],
   "source": [
    "ra.positions"
   ]
  },
  {
   "cell_type": "code",
   "execution_count": 16,
   "metadata": {
    "ExecuteTime": {
     "end_time": "2021-08-21T12:19:06.054487Z",
     "start_time": "2021-08-21T12:19:06.050673Z"
    }
   },
   "outputs": [
    {
     "data": {
      "text/plain": [
       "252735"
      ]
     },
     "execution_count": 16,
     "metadata": {},
     "output_type": "execute_result"
    }
   ],
   "source": [
    "len(ra.positions)"
   ]
  },
  {
   "cell_type": "code",
   "execution_count": 17,
   "metadata": {
    "ExecuteTime": {
     "end_time": "2021-08-21T12:19:06.065666Z",
     "start_time": "2021-08-21T12:19:06.056521Z"
    }
   },
   "outputs": [
    {
     "data": {
      "text/html": [
       "<div>\n",
       "<style scoped>\n",
       "    .dataframe tbody tr th:only-of-type {\n",
       "        vertical-align: middle;\n",
       "    }\n",
       "\n",
       "    .dataframe tbody tr th {\n",
       "        vertical-align: top;\n",
       "    }\n",
       "\n",
       "    .dataframe thead th {\n",
       "        text-align: right;\n",
       "    }\n",
       "</style>\n",
       "<table border=\"1\" class=\"dataframe\">\n",
       "  <thead>\n",
       "    <tr style=\"text-align: right;\">\n",
       "      <th></th>\n",
       "      <th>pos</th>\n",
       "    </tr>\n",
       "  </thead>\n",
       "  <tbody>\n",
       "    <tr>\n",
       "      <th>0</th>\n",
       "      <td>0</td>\n",
       "    </tr>\n",
       "    <tr>\n",
       "      <th>1</th>\n",
       "      <td>0</td>\n",
       "    </tr>\n",
       "    <tr>\n",
       "      <th>2</th>\n",
       "      <td>15611873</td>\n",
       "    </tr>\n",
       "    <tr>\n",
       "      <th>3</th>\n",
       "      <td>0</td>\n",
       "    </tr>\n",
       "    <tr>\n",
       "      <th>4</th>\n",
       "      <td>0</td>\n",
       "    </tr>\n",
       "    <tr>\n",
       "      <th>...</th>\n",
       "      <td>...</td>\n",
       "    </tr>\n",
       "    <tr>\n",
       "      <th>252730</th>\n",
       "      <td>0</td>\n",
       "    </tr>\n",
       "    <tr>\n",
       "      <th>252731</th>\n",
       "      <td>0</td>\n",
       "    </tr>\n",
       "    <tr>\n",
       "      <th>252732</th>\n",
       "      <td>0</td>\n",
       "    </tr>\n",
       "    <tr>\n",
       "      <th>252733</th>\n",
       "      <td>0</td>\n",
       "    </tr>\n",
       "    <tr>\n",
       "      <th>252734</th>\n",
       "      <td>0</td>\n",
       "    </tr>\n",
       "  </tbody>\n",
       "</table>\n",
       "<p>252735 rows × 1 columns</p>\n",
       "</div>"
      ],
      "text/plain": [
       "             pos\n",
       "0              0\n",
       "1              0\n",
       "2       15611873\n",
       "3              0\n",
       "4              0\n",
       "...          ...\n",
       "252730         0\n",
       "252731         0\n",
       "252732         0\n",
       "252733         0\n",
       "252734         0\n",
       "\n",
       "[252735 rows x 1 columns]"
      ]
     },
     "execution_count": 17,
     "metadata": {},
     "output_type": "execute_result"
    }
   ],
   "source": [
    "df_pos = pd.DataFrame(ra.positions, columns=[\"pos\"])\n",
    "df_pos"
   ]
  },
  {
   "cell_type": "markdown",
   "metadata": {},
   "source": [
    "## Merge"
   ]
  },
  {
   "cell_type": "code",
   "execution_count": 18,
   "metadata": {
    "ExecuteTime": {
     "end_time": "2021-08-21T12:19:06.086457Z",
     "start_time": "2021-08-21T12:19:06.067538Z"
    }
   },
   "outputs": [
    {
     "data": {
      "text/html": [
       "<div>\n",
       "<style scoped>\n",
       "    .dataframe tbody tr th:only-of-type {\n",
       "        vertical-align: middle;\n",
       "    }\n",
       "\n",
       "    .dataframe tbody tr th {\n",
       "        vertical-align: top;\n",
       "    }\n",
       "\n",
       "    .dataframe thead th {\n",
       "        text-align: right;\n",
       "    }\n",
       "</style>\n",
       "<table border=\"1\" class=\"dataframe\">\n",
       "  <thead>\n",
       "    <tr style=\"text-align: right;\">\n",
       "      <th></th>\n",
       "      <th>status</th>\n",
       "      <th>cell</th>\n",
       "      <th>rmt</th>\n",
       "      <th>n_poly_t</th>\n",
       "      <th>genes</th>\n",
       "      <th>pos</th>\n",
       "    </tr>\n",
       "  </thead>\n",
       "  <tbody>\n",
       "    <tr>\n",
       "      <th>0</th>\n",
       "      <td>1</td>\n",
       "      <td>200983461452598</td>\n",
       "      <td>38446774684</td>\n",
       "      <td>0</td>\n",
       "      <td>0</td>\n",
       "      <td>0</td>\n",
       "    </tr>\n",
       "    <tr>\n",
       "      <th>1</th>\n",
       "      <td>1</td>\n",
       "      <td>232448540961013</td>\n",
       "      <td>40377936093</td>\n",
       "      <td>0</td>\n",
       "      <td>0</td>\n",
       "      <td>0</td>\n",
       "    </tr>\n",
       "    <tr>\n",
       "      <th>2</th>\n",
       "      <td>0</td>\n",
       "      <td>200570500499883</td>\n",
       "      <td>41267181429</td>\n",
       "      <td>0</td>\n",
       "      <td>225067</td>\n",
       "      <td>15611873</td>\n",
       "    </tr>\n",
       "    <tr>\n",
       "      <th>3</th>\n",
       "      <td>1</td>\n",
       "      <td>231772364696924</td>\n",
       "      <td>41564723102</td>\n",
       "      <td>0</td>\n",
       "      <td>0</td>\n",
       "      <td>0</td>\n",
       "    </tr>\n",
       "    <tr>\n",
       "      <th>4</th>\n",
       "      <td>1</td>\n",
       "      <td>227499945647347</td>\n",
       "      <td>39153163702</td>\n",
       "      <td>0</td>\n",
       "      <td>0</td>\n",
       "      <td>0</td>\n",
       "    </tr>\n",
       "    <tr>\n",
       "      <th>...</th>\n",
       "      <td>...</td>\n",
       "      <td>...</td>\n",
       "      <td>...</td>\n",
       "      <td>...</td>\n",
       "      <td>...</td>\n",
       "      <td>...</td>\n",
       "    </tr>\n",
       "    <tr>\n",
       "      <th>252730</th>\n",
       "      <td>1</td>\n",
       "      <td>169082619287347</td>\n",
       "      <td>49237838683</td>\n",
       "      <td>0</td>\n",
       "      <td>0</td>\n",
       "      <td>0</td>\n",
       "    </tr>\n",
       "    <tr>\n",
       "      <th>252731</th>\n",
       "      <td>1</td>\n",
       "      <td>164701771590046</td>\n",
       "      <td>57689455348</td>\n",
       "      <td>0</td>\n",
       "      <td>0</td>\n",
       "      <td>0</td>\n",
       "    </tr>\n",
       "    <tr>\n",
       "      <th>252732</th>\n",
       "      <td>1</td>\n",
       "      <td>169038985719156</td>\n",
       "      <td>33098951083</td>\n",
       "      <td>0</td>\n",
       "      <td>0</td>\n",
       "      <td>0</td>\n",
       "    </tr>\n",
       "    <tr>\n",
       "      <th>252733</th>\n",
       "      <td>1</td>\n",
       "      <td>231840668564334</td>\n",
       "      <td>31598787309</td>\n",
       "      <td>0</td>\n",
       "      <td>0</td>\n",
       "      <td>0</td>\n",
       "    </tr>\n",
       "    <tr>\n",
       "      <th>252734</th>\n",
       "      <td>1</td>\n",
       "      <td>161332457818475</td>\n",
       "      <td>32723551981</td>\n",
       "      <td>0</td>\n",
       "      <td>0</td>\n",
       "      <td>0</td>\n",
       "    </tr>\n",
       "  </tbody>\n",
       "</table>\n",
       "<p>252735 rows × 6 columns</p>\n",
       "</div>"
      ],
      "text/plain": [
       "        status             cell          rmt  n_poly_t   genes       pos\n",
       "0            1  200983461452598  38446774684         0       0         0\n",
       "1            1  232448540961013  40377936093         0       0         0\n",
       "2            0  200570500499883  41267181429         0  225067  15611873\n",
       "3            1  231772364696924  41564723102         0       0         0\n",
       "4            1  227499945647347  39153163702         0       0         0\n",
       "...        ...              ...          ...       ...     ...       ...\n",
       "252730       1  169082619287347  49237838683         0       0         0\n",
       "252731       1  164701771590046  57689455348         0       0         0\n",
       "252732       1  169038985719156  33098951083         0       0         0\n",
       "252733       1  231840668564334  31598787309         0       0         0\n",
       "252734       1  161332457818475  32723551981         0       0         0\n",
       "\n",
       "[252735 rows x 6 columns]"
      ]
     },
     "execution_count": 18,
     "metadata": {},
     "output_type": "execute_result"
    }
   ],
   "source": [
    "df_merged = pd.concat([df_data, df_genes, df_pos], axis=1)\n",
    "df_merged"
   ]
  },
  {
   "cell_type": "markdown",
   "metadata": {},
   "source": [
    "## Translate Cell Barcode"
   ]
  },
  {
   "cell_type": "markdown",
   "metadata": {},
   "source": [
    "_** IMPORTANT **_\n",
    "\n",
    "SEQC encodes barcodes into numeric format\n",
    "\n",
    "e.g. `GGGAGATTCACGGACC` --> `200983461452598`"
   ]
  },
  {
   "cell_type": "code",
   "execution_count": 19,
   "metadata": {
    "ExecuteTime": {
     "end_time": "2021-08-21T12:19:06.090642Z",
     "start_time": "2021-08-21T12:19:06.087914Z"
    }
   },
   "outputs": [],
   "source": [
    "from seqc.sequence.encodings import DNA3Bit"
   ]
  },
  {
   "cell_type": "code",
   "execution_count": 20,
   "metadata": {
    "ExecuteTime": {
     "end_time": "2021-08-21T12:19:06.095214Z",
     "start_time": "2021-08-21T12:19:06.092630Z"
    }
   },
   "outputs": [],
   "source": [
    "dna3bit = DNA3Bit()"
   ]
  },
  {
   "cell_type": "code",
   "execution_count": 21,
   "metadata": {
    "ExecuteTime": {
     "end_time": "2021-08-21T12:19:06.995654Z",
     "start_time": "2021-08-21T12:19:06.099152Z"
    }
   },
   "outputs": [
    {
     "data": {
      "text/plain": [
       "0         GGGAGATTCACGGACC\n",
       "1         CACCAAAAGGACATCG\n",
       "2         GGACGTCGTTCAACGT\n",
       "3         CAGAGCCGTGCCCGTA\n",
       "4         CTGCATCGTAAGCTCT\n",
       "                ...       \n",
       "252730    ACTATCTGTGTGTACT\n",
       "252731    AGTAGCTCAGGCACTC\n",
       "252732    ACTTCGCAGAACCGCA\n",
       "252733    CAGGGCTAGATTGGGC\n",
       "252734    AAGTGAATCGGAAGGT\n",
       "Name: cell, Length: 252735, dtype: object"
      ]
     },
     "execution_count": 21,
     "metadata": {},
     "output_type": "execute_result"
    }
   ],
   "source": [
    "cb = df_merged.cell.apply(lambda x: dna3bit.decode(x).decode())\n",
    "cb"
   ]
  },
  {
   "cell_type": "code",
   "execution_count": 22,
   "metadata": {
    "ExecuteTime": {
     "end_time": "2021-08-21T12:19:07.644059Z",
     "start_time": "2021-08-21T12:19:06.997751Z"
    }
   },
   "outputs": [
    {
     "data": {
      "text/plain": [
       "0         ATCTACCTACTA\n",
       "1         AGACGGACATTG\n",
       "2         ACTTGGCTTGCG\n",
       "3         ACGGTACGTCTC\n",
       "4         AATGGGTGCCCC\n",
       "              ...     \n",
       "252730    GGCCCTTAGGTT\n",
       "252731    CGGCATCTGTCA\n",
       "252732    TCCACCTCACGT\n",
       "252733    TGTTTTCTGTGG\n",
       "252734    TCTCTCTATTGG\n",
       "Name: rmt, Length: 252735, dtype: object"
      ]
     },
     "execution_count": 22,
     "metadata": {},
     "output_type": "execute_result"
    }
   ],
   "source": [
    "umi = df_merged.rmt.apply(lambda x: dna3bit.decode(x).decode())\n",
    "umi"
   ]
  },
  {
   "cell_type": "code",
   "execution_count": 23,
   "metadata": {
    "ExecuteTime": {
     "end_time": "2021-08-21T12:19:07.664449Z",
     "start_time": "2021-08-21T12:19:07.645298Z"
    }
   },
   "outputs": [],
   "source": [
    "df_merged = df_merged.assign(cb=cb)\n",
    "df_merged = df_merged.assign(umi=umi)"
   ]
  },
  {
   "cell_type": "code",
   "execution_count": 24,
   "metadata": {
    "ExecuteTime": {
     "end_time": "2021-08-21T12:19:07.679843Z",
     "start_time": "2021-08-21T12:19:07.665741Z"
    }
   },
   "outputs": [
    {
     "data": {
      "text/html": [
       "<div>\n",
       "<style scoped>\n",
       "    .dataframe tbody tr th:only-of-type {\n",
       "        vertical-align: middle;\n",
       "    }\n",
       "\n",
       "    .dataframe tbody tr th {\n",
       "        vertical-align: top;\n",
       "    }\n",
       "\n",
       "    .dataframe thead th {\n",
       "        text-align: right;\n",
       "    }\n",
       "</style>\n",
       "<table border=\"1\" class=\"dataframe\">\n",
       "  <thead>\n",
       "    <tr style=\"text-align: right;\">\n",
       "      <th></th>\n",
       "      <th>status</th>\n",
       "      <th>cell</th>\n",
       "      <th>rmt</th>\n",
       "      <th>n_poly_t</th>\n",
       "      <th>genes</th>\n",
       "      <th>pos</th>\n",
       "      <th>cb</th>\n",
       "      <th>umi</th>\n",
       "    </tr>\n",
       "  </thead>\n",
       "  <tbody>\n",
       "    <tr>\n",
       "      <th>0</th>\n",
       "      <td>1</td>\n",
       "      <td>200983461452598</td>\n",
       "      <td>38446774684</td>\n",
       "      <td>0</td>\n",
       "      <td>0</td>\n",
       "      <td>0</td>\n",
       "      <td>GGGAGATTCACGGACC</td>\n",
       "      <td>ATCTACCTACTA</td>\n",
       "    </tr>\n",
       "    <tr>\n",
       "      <th>1</th>\n",
       "      <td>1</td>\n",
       "      <td>232448540961013</td>\n",
       "      <td>40377936093</td>\n",
       "      <td>0</td>\n",
       "      <td>0</td>\n",
       "      <td>0</td>\n",
       "      <td>CACCAAAAGGACATCG</td>\n",
       "      <td>AGACGGACATTG</td>\n",
       "    </tr>\n",
       "    <tr>\n",
       "      <th>2</th>\n",
       "      <td>0</td>\n",
       "      <td>200570500499883</td>\n",
       "      <td>41267181429</td>\n",
       "      <td>0</td>\n",
       "      <td>225067</td>\n",
       "      <td>15611873</td>\n",
       "      <td>GGACGTCGTTCAACGT</td>\n",
       "      <td>ACTTGGCTTGCG</td>\n",
       "    </tr>\n",
       "    <tr>\n",
       "      <th>3</th>\n",
       "      <td>1</td>\n",
       "      <td>231772364696924</td>\n",
       "      <td>41564723102</td>\n",
       "      <td>0</td>\n",
       "      <td>0</td>\n",
       "      <td>0</td>\n",
       "      <td>CAGAGCCGTGCCCGTA</td>\n",
       "      <td>ACGGTACGTCTC</td>\n",
       "    </tr>\n",
       "    <tr>\n",
       "      <th>4</th>\n",
       "      <td>1</td>\n",
       "      <td>227499945647347</td>\n",
       "      <td>39153163702</td>\n",
       "      <td>0</td>\n",
       "      <td>0</td>\n",
       "      <td>0</td>\n",
       "      <td>CTGCATCGTAAGCTCT</td>\n",
       "      <td>AATGGGTGCCCC</td>\n",
       "    </tr>\n",
       "    <tr>\n",
       "      <th>...</th>\n",
       "      <td>...</td>\n",
       "      <td>...</td>\n",
       "      <td>...</td>\n",
       "      <td>...</td>\n",
       "      <td>...</td>\n",
       "      <td>...</td>\n",
       "      <td>...</td>\n",
       "      <td>...</td>\n",
       "    </tr>\n",
       "    <tr>\n",
       "      <th>252730</th>\n",
       "      <td>1</td>\n",
       "      <td>169082619287347</td>\n",
       "      <td>49237838683</td>\n",
       "      <td>0</td>\n",
       "      <td>0</td>\n",
       "      <td>0</td>\n",
       "      <td>ACTATCTGTGTGTACT</td>\n",
       "      <td>GGCCCTTAGGTT</td>\n",
       "    </tr>\n",
       "    <tr>\n",
       "      <th>252731</th>\n",
       "      <td>1</td>\n",
       "      <td>164701771590046</td>\n",
       "      <td>57689455348</td>\n",
       "      <td>0</td>\n",
       "      <td>0</td>\n",
       "      <td>0</td>\n",
       "      <td>AGTAGCTCAGGCACTC</td>\n",
       "      <td>CGGCATCTGTCA</td>\n",
       "    </tr>\n",
       "    <tr>\n",
       "      <th>252732</th>\n",
       "      <td>1</td>\n",
       "      <td>169038985719156</td>\n",
       "      <td>33098951083</td>\n",
       "      <td>0</td>\n",
       "      <td>0</td>\n",
       "      <td>0</td>\n",
       "      <td>ACTTCGCAGAACCGCA</td>\n",
       "      <td>TCCACCTCACGT</td>\n",
       "    </tr>\n",
       "    <tr>\n",
       "      <th>252733</th>\n",
       "      <td>1</td>\n",
       "      <td>231840668564334</td>\n",
       "      <td>31598787309</td>\n",
       "      <td>0</td>\n",
       "      <td>0</td>\n",
       "      <td>0</td>\n",
       "      <td>CAGGGCTAGATTGGGC</td>\n",
       "      <td>TGTTTTCTGTGG</td>\n",
       "    </tr>\n",
       "    <tr>\n",
       "      <th>252734</th>\n",
       "      <td>1</td>\n",
       "      <td>161332457818475</td>\n",
       "      <td>32723551981</td>\n",
       "      <td>0</td>\n",
       "      <td>0</td>\n",
       "      <td>0</td>\n",
       "      <td>AAGTGAATCGGAAGGT</td>\n",
       "      <td>TCTCTCTATTGG</td>\n",
       "    </tr>\n",
       "  </tbody>\n",
       "</table>\n",
       "<p>252735 rows × 8 columns</p>\n",
       "</div>"
      ],
      "text/plain": [
       "        status             cell          rmt  n_poly_t   genes       pos  \\\n",
       "0            1  200983461452598  38446774684         0       0         0   \n",
       "1            1  232448540961013  40377936093         0       0         0   \n",
       "2            0  200570500499883  41267181429         0  225067  15611873   \n",
       "3            1  231772364696924  41564723102         0       0         0   \n",
       "4            1  227499945647347  39153163702         0       0         0   \n",
       "...        ...              ...          ...       ...     ...       ...   \n",
       "252730       1  169082619287347  49237838683         0       0         0   \n",
       "252731       1  164701771590046  57689455348         0       0         0   \n",
       "252732       1  169038985719156  33098951083         0       0         0   \n",
       "252733       1  231840668564334  31598787309         0       0         0   \n",
       "252734       1  161332457818475  32723551981         0       0         0   \n",
       "\n",
       "                      cb           umi  \n",
       "0       GGGAGATTCACGGACC  ATCTACCTACTA  \n",
       "1       CACCAAAAGGACATCG  AGACGGACATTG  \n",
       "2       GGACGTCGTTCAACGT  ACTTGGCTTGCG  \n",
       "3       CAGAGCCGTGCCCGTA  ACGGTACGTCTC  \n",
       "4       CTGCATCGTAAGCTCT  AATGGGTGCCCC  \n",
       "...                  ...           ...  \n",
       "252730  ACTATCTGTGTGTACT  GGCCCTTAGGTT  \n",
       "252731  AGTAGCTCAGGCACTC  CGGCATCTGTCA  \n",
       "252732  ACTTCGCAGAACCGCA  TCCACCTCACGT  \n",
       "252733  CAGGGCTAGATTGGGC  TGTTTTCTGTGG  \n",
       "252734  AAGTGAATCGGAAGGT  TCTCTCTATTGG  \n",
       "\n",
       "[252735 rows x 8 columns]"
      ]
     },
     "execution_count": 24,
     "metadata": {},
     "output_type": "execute_result"
    }
   ],
   "source": [
    "df_merged"
   ]
  },
  {
   "cell_type": "markdown",
   "metadata": {},
   "source": [
    "# Filtering"
   ]
  },
  {
   "cell_type": "code",
   "execution_count": 25,
   "metadata": {
    "ExecuteTime": {
     "end_time": "2021-08-21T12:19:07.716687Z",
     "start_time": "2021-08-21T12:19:07.681182Z"
    }
   },
   "outputs": [
    {
     "data": {
      "text/html": [
       "<div>\n",
       "<style scoped>\n",
       "    .dataframe tbody tr th:only-of-type {\n",
       "        vertical-align: middle;\n",
       "    }\n",
       "\n",
       "    .dataframe tbody tr th {\n",
       "        vertical-align: top;\n",
       "    }\n",
       "\n",
       "    .dataframe thead th {\n",
       "        text-align: right;\n",
       "    }\n",
       "</style>\n",
       "<table border=\"1\" class=\"dataframe\">\n",
       "  <thead>\n",
       "    <tr style=\"text-align: right;\">\n",
       "      <th></th>\n",
       "      <th>status</th>\n",
       "      <th>cell</th>\n",
       "      <th>rmt</th>\n",
       "      <th>n_poly_t</th>\n",
       "      <th>genes</th>\n",
       "      <th>pos</th>\n",
       "      <th>cb</th>\n",
       "      <th>umi</th>\n",
       "    </tr>\n",
       "  </thead>\n",
       "  <tbody>\n",
       "    <tr>\n",
       "      <th>2</th>\n",
       "      <td>0</td>\n",
       "      <td>200570500499883</td>\n",
       "      <td>41267181429</td>\n",
       "      <td>0</td>\n",
       "      <td>225067</td>\n",
       "      <td>15611873</td>\n",
       "      <td>GGACGTCGTTCAACGT</td>\n",
       "      <td>ACTTGGCTTGCG</td>\n",
       "    </tr>\n",
       "  </tbody>\n",
       "</table>\n",
       "</div>"
      ],
      "text/plain": [
       "   status             cell          rmt  n_poly_t   genes       pos  \\\n",
       "2       0  200570500499883  41267181429         0  225067  15611873   \n",
       "\n",
       "                 cb           umi  \n",
       "2  GGACGTCGTTCAACGT  ACTTGGCTTGCG  "
      ]
     },
     "execution_count": 25,
     "metadata": {},
     "output_type": "execute_result"
    }
   ],
   "source": [
    "# reads that are mapped to a gene (i.e. status=0)\n",
    "x = df_merged[ df_merged.status == 0 ].head(n=1)\n",
    "x"
   ]
  },
  {
   "cell_type": "code",
   "execution_count": 26,
   "metadata": {
    "ExecuteTime": {
     "end_time": "2021-08-21T12:19:07.722073Z",
     "start_time": "2021-08-21T12:19:07.718047Z"
    }
   },
   "outputs": [
    {
     "data": {
      "text/plain": [
       "'GGACGTCGTTCAACGT'"
      ]
     },
     "execution_count": 26,
     "metadata": {},
     "output_type": "execute_result"
    }
   ],
   "source": [
    "cb = x.iloc[0].cb\n",
    "cb"
   ]
  },
  {
   "cell_type": "code",
   "execution_count": 27,
   "metadata": {
    "ExecuteTime": {
     "end_time": "2021-08-21T12:19:07.727489Z",
     "start_time": "2021-08-21T12:19:07.723550Z"
    }
   },
   "outputs": [
    {
     "data": {
      "text/plain": [
       "'ACTTGGCTTGCG'"
      ]
     },
     "execution_count": 27,
     "metadata": {},
     "output_type": "execute_result"
    }
   ],
   "source": [
    "umi = x.iloc[0].umi\n",
    "umi"
   ]
  },
  {
   "cell_type": "code",
   "execution_count": 28,
   "metadata": {
    "ExecuteTime": {
     "end_time": "2021-08-21T12:19:07.733199Z",
     "start_time": "2021-08-21T12:19:07.729015Z"
    }
   },
   "outputs": [
    {
     "data": {
      "text/plain": [
       "'ENSG00000225067'"
      ]
     },
     "execution_count": 28,
     "metadata": {},
     "output_type": "execute_result"
    }
   ],
   "source": [
    "gene_id = \"ENSG{:011d}\".format(x.iloc[0].genes)\n",
    "gene_id"
   ]
  },
  {
   "cell_type": "markdown",
   "metadata": {},
   "source": [
    "## Look Up BAM"
   ]
  },
  {
   "cell_type": "markdown",
   "metadata": {},
   "source": [
    "What if you want to find the raw sequence from the aligned BAM file?"
   ]
  },
  {
   "cell_type": "markdown",
   "metadata": {},
   "source": [
    "### Quick and Dirty"
   ]
  },
  {
   "cell_type": "code",
   "execution_count": 29,
   "metadata": {
    "ExecuteTime": {
     "end_time": "2021-08-21T12:19:09.655972Z",
     "start_time": "2021-08-21T12:19:07.734692Z"
    }
   },
   "outputs": [
    {
     "name": "stdout",
     "output_type": "stream",
     "text": [
      ":GGACGTCGTTCAACGT:ACTTGGCTTGCG:;A00228:279:HFWFVDMXX:1:1470:21450:5102\t0\tchr19\t15611873\t255\t24S67M\t*\t0\t0\tAGCAGTGGTATCAACGCAGAGTACATGGGATCATCAAGTTTCCGCTGACCACTGAGTCTGCCATGAAGAAGATAGAAGACAACAACACACT\tFFFFFFFFFFFFFFFFFFFFFFFFFFFFFFFFFFFFFFFFFFFFFFFFFFFFFFFFFFFFFFFFFFFFFFF:FFF:FFFFFFFFFFFFFFF\tNH:i:1\tHI:i:1\tAS:i:61\tnM:i:2\r\n"
     ]
    }
   ],
   "source": [
    "!samtools view \"$path_aligned_bam\" | grep \"$cb\" | grep \"$umi\""
   ]
  },
  {
   "cell_type": "markdown",
   "metadata": {},
   "source": [
    "### Using Pysam"
   ]
  },
  {
   "cell_type": "markdown",
   "metadata": {},
   "source": [
    "API Reference: https://pysam.readthedocs.io/en/latest/api.html#sam-bam-cram-files"
   ]
  },
  {
   "cell_type": "code",
   "execution_count": 30,
   "metadata": {
    "ExecuteTime": {
     "end_time": "2021-08-21T12:19:09.690666Z",
     "start_time": "2021-08-21T12:19:09.659169Z"
    }
   },
   "outputs": [],
   "source": [
    "import pysam"
   ]
  },
  {
   "cell_type": "code",
   "execution_count": 31,
   "metadata": {
    "ExecuteTime": {
     "end_time": "2021-08-21T12:19:09.698257Z",
     "start_time": "2021-08-21T12:19:09.692166Z"
    }
   },
   "outputs": [
    {
     "name": "stdout",
     "output_type": "stream",
     "text": [
      ":AAAGTCCCACCAGGAA:GGAGCAGCCTTT:;A00228:279:HFWFVDMXX:1:1110:29731:27211\t0\t0\t61360\t255\t91M\t-1\t-1\t91\tTCTCCTTCCAGTGAGGAAGCGGGGCCACCACCCAGCGTGTGCTCCATCTTTTCTGGCTGGGGAGAGGCCTTCATCTGCTGTAAAGGGTCCT\tarray('B', [37, 25, 37, 37, 37, 37, 37, 37, 25, 37, 37, 37, 37, 37, 37, 37, 37, 25, 37, 37, 25, 37, 37, 37, 37, 25, 37, 37, 25, 37, 37, 37, 25, 37, 37, 37, 37, 37, 37, 37, 25, 37, 37, 37, 37, 37, 37, 37, 37, 37, 37, 37, 37, 37, 37, 37, 37, 11, 37, 37, 37, 37, 11, 25, 37, 37, 37, 37, 37, 37, 37, 25, 25, 37, 37, 37, 37, 37, 37, 37, 37, 37, 37, 37, 37, 37, 25, 37, 37, 37, 25])\t[('NH', 1), ('HI', 1), ('AS', 89), ('nM', 0)]\n"
     ]
    }
   ],
   "source": [
    "with pysam.AlignmentFile(path_aligned_sorted_bam, \"rb\") as bamfile:\n",
    "    for read in bamfile.fetch():\n",
    "        print(read)\n",
    "        break"
   ]
  },
  {
   "cell_type": "code",
   "execution_count": 32,
   "metadata": {
    "ExecuteTime": {
     "end_time": "2021-08-21T12:19:09.902095Z",
     "start_time": "2021-08-21T12:19:09.699656Z"
    }
   },
   "outputs": [
    {
     "name": "stdout",
     "output_type": "stream",
     "text": [
      ":GGACGTCGTTCAACGT:ACTTGGCTTGCG:;A00228:279:HFWFVDMXX:1:1470:21450:5102\t0\t0\t15611872\t255\t24S67M\t-1\t-1\t67\tAGCAGTGGTATCAACGCAGAGTACATGGGATCATCAAGTTTCCGCTGACCACTGAGTCTGCCATGAAGAAGATAGAAGACAACAACACACT\tarray('B', [37, 37, 37, 37, 37, 37, 37, 37, 37, 37, 37, 37, 37, 37, 37, 37, 37, 37, 37, 37, 37, 37, 37, 37, 37, 37, 37, 37, 37, 37, 37, 37, 37, 37, 37, 37, 37, 37, 37, 37, 37, 37, 37, 37, 37, 37, 37, 37, 37, 37, 37, 37, 37, 37, 37, 37, 37, 37, 37, 37, 37, 37, 37, 37, 37, 37, 37, 37, 37, 37, 37, 25, 37, 37, 37, 25, 37, 37, 37, 37, 37, 37, 37, 37, 37, 37, 37, 37, 37, 37, 37])\t[('NH', 1), ('HI', 1), ('AS', 61), ('nM', 2)]\n"
     ]
    }
   ],
   "source": [
    "with pysam.AlignmentFile(path_aligned_sorted_bam, \"rb\") as bamfile:\n",
    "    for read in bamfile.fetch():\n",
    "        if read.query_name.startswith(f\":{cb}:{umi}\"):\n",
    "            print(read)\n",
    "            break"
   ]
  },
  {
   "cell_type": "code",
   "execution_count": 33,
   "metadata": {
    "ExecuteTime": {
     "end_time": "2021-08-21T12:19:09.906232Z",
     "start_time": "2021-08-21T12:19:09.903410Z"
    }
   },
   "outputs": [
    {
     "name": "stdout",
     "output_type": "stream",
     "text": [
      ":GGACGTCGTTCAACGT:ACTTGGCTTGCG:;A00228:279:HFWFVDMXX:1:1470:21450:5102\n",
      "AGCAGTGGTATCAACGCAGAGTACATGGGATCATCAAGTTTCCGCTGACCACTGAGTCTGCCATGAAGAAGATAGAAGACAACAACACACT\n",
      "24S67M\n"
     ]
    }
   ],
   "source": [
    "print(read.query_name)\n",
    "print(read.query_sequence)\n",
    "print(read.cigarstring)"
   ]
  },
  {
   "cell_type": "markdown",
   "metadata": {},
   "source": [
    "## Look Up GTF"
   ]
  },
  {
   "cell_type": "markdown",
   "metadata": {},
   "source": [
    "What if you want to get more information about the gene from the annotation GTF file?"
   ]
  },
  {
   "cell_type": "markdown",
   "metadata": {},
   "source": [
    "### Quick and Dirty"
   ]
  },
  {
   "cell_type": "markdown",
   "metadata": {},
   "source": [
    "Below returns three rows (gene, transcript, and exon)"
   ]
  },
  {
   "cell_type": "code",
   "execution_count": 34,
   "metadata": {
    "ExecuteTime": {
     "end_time": "2021-08-21T12:19:11.139139Z",
     "start_time": "2021-08-21T12:19:09.907629Z"
    }
   },
   "outputs": [
    {
     "name": "stdout",
     "output_type": "stream",
     "text": [
      "chr19\tHAVANA\tgene\t15611657\t15612122\t.\t+\t.\tgene_id \"ENSG00000225067.4\"; gene_type \"processed_pseudogene\"; gene_status \"KNOWN\"; gene_name \"RPL23AP2\"; level 1; tag \"pseudo_consens\"; havana_gene \"OTTHUMG00000158039.3\";\r\n",
      "chr19\tHAVANA\ttranscript\t15611657\t15612122\t.\t+\t.\tgene_id \"ENSG00000225067.4\"; transcript_id \"ENST00000471227.3\"; gene_type \"processed_pseudogene\"; gene_status \"KNOWN\"; gene_name \"RPL23AP2\"; transcript_type \"processed_pseudogene\"; transcript_status \"KNOWN\"; transcript_name \"RPL23AP2-001\"; level 1; ont \"PGO:0000004\"; tag \"pseudo_consens\"; tag \"basic\"; transcript_support_level \"NA\"; havana_gene \"OTTHUMG00000158039.3\"; havana_transcript \"OTTHUMT00000350064.3\";\r\n",
      "chr19\tHAVANA\texon\t15611657\t15612122\t.\t+\t.\tgene_id \"ENSG00000225067.4\"; transcript_id \"ENST00000471227.3\"; gene_type \"processed_pseudogene\"; gene_status \"KNOWN\"; gene_name \"RPL23AP2\"; transcript_type \"processed_pseudogene\"; transcript_status \"KNOWN\"; transcript_name \"RPL23AP2-001\"; exon_number 1; exon_id \"ENSE00001824478.3\"; level 1; ont \"PGO:0000004\"; tag \"pseudo_consens\"; tag \"basic\"; transcript_support_level \"NA\"; havana_gene \"OTTHUMG00000158039.3\"; havana_transcript \"OTTHUMT00000350064.3\";\r\n"
     ]
    }
   ],
   "source": [
    "!gunzip -c \"$path_gtf\" | grep $gene_id"
   ]
  },
  {
   "cell_type": "markdown",
   "metadata": {},
   "source": [
    "### Using Pyranges"
   ]
  },
  {
   "cell_type": "markdown",
   "metadata": {},
   "source": [
    "API Reference: https://pyranges.readthedocs.io/en/latest/autoapi/pyranges/readers/index.html#pyranges.readers.read_gtf"
   ]
  },
  {
   "cell_type": "code",
   "execution_count": 35,
   "metadata": {
    "ExecuteTime": {
     "end_time": "2021-08-21T12:19:11.197466Z",
     "start_time": "2021-08-21T12:19:11.141025Z"
    }
   },
   "outputs": [],
   "source": [
    "import pyranges as pr"
   ]
  },
  {
   "cell_type": "code",
   "execution_count": 36,
   "metadata": {
    "ExecuteTime": {
     "end_time": "2021-08-21T12:19:15.657257Z",
     "start_time": "2021-08-21T12:19:11.198806Z"
    }
   },
   "outputs": [],
   "source": [
    "gr = pr.read_gtf(path_gtf)"
   ]
  },
  {
   "cell_type": "code",
   "execution_count": 37,
   "metadata": {
    "ExecuteTime": {
     "end_time": "2021-08-21T12:19:16.591811Z",
     "start_time": "2021-08-21T12:19:15.659365Z"
    }
   },
   "outputs": [
    {
     "data": {
      "text/html": [
       "<div>\n",
       "<style scoped>\n",
       "    .dataframe tbody tr th:only-of-type {\n",
       "        vertical-align: middle;\n",
       "    }\n",
       "\n",
       "    .dataframe tbody tr th {\n",
       "        vertical-align: top;\n",
       "    }\n",
       "\n",
       "    .dataframe thead th {\n",
       "        text-align: right;\n",
       "    }\n",
       "</style>\n",
       "<table border=\"1\" class=\"dataframe\">\n",
       "  <thead>\n",
       "    <tr style=\"text-align: right;\">\n",
       "      <th></th>\n",
       "      <th>Chromosome</th>\n",
       "      <th>Source</th>\n",
       "      <th>Feature</th>\n",
       "      <th>Start</th>\n",
       "      <th>End</th>\n",
       "      <th>Score</th>\n",
       "      <th>Strand</th>\n",
       "      <th>Frame</th>\n",
       "      <th>gene_id</th>\n",
       "      <th>gene_type</th>\n",
       "      <th>...</th>\n",
       "      <th>transcript_status</th>\n",
       "      <th>transcript_name</th>\n",
       "      <th>tag</th>\n",
       "      <th>transcript_support_level</th>\n",
       "      <th>havana_transcript</th>\n",
       "      <th>exon_number</th>\n",
       "      <th>exon_id</th>\n",
       "      <th>ont</th>\n",
       "      <th>protein_id</th>\n",
       "      <th>ccdsid</th>\n",
       "    </tr>\n",
       "  </thead>\n",
       "  <tbody>\n",
       "    <tr>\n",
       "      <th>0</th>\n",
       "      <td>chr19</td>\n",
       "      <td>HAVANA</td>\n",
       "      <td>gene</td>\n",
       "      <td>68402</td>\n",
       "      <td>69178</td>\n",
       "      <td>.</td>\n",
       "      <td>+</td>\n",
       "      <td>.</td>\n",
       "      <td>ENSG00000282542.1</td>\n",
       "      <td>TEC</td>\n",
       "      <td>...</td>\n",
       "      <td>NaN</td>\n",
       "      <td>NaN</td>\n",
       "      <td>NaN</td>\n",
       "      <td>NaN</td>\n",
       "      <td>NaN</td>\n",
       "      <td>NaN</td>\n",
       "      <td>NaN</td>\n",
       "      <td>NaN</td>\n",
       "      <td>NaN</td>\n",
       "      <td>NaN</td>\n",
       "    </tr>\n",
       "    <tr>\n",
       "      <th>1</th>\n",
       "      <td>chr19</td>\n",
       "      <td>HAVANA</td>\n",
       "      <td>transcript</td>\n",
       "      <td>68402</td>\n",
       "      <td>69178</td>\n",
       "      <td>.</td>\n",
       "      <td>+</td>\n",
       "      <td>.</td>\n",
       "      <td>ENSG00000282542.1</td>\n",
       "      <td>TEC</td>\n",
       "      <td>...</td>\n",
       "      <td>KNOWN</td>\n",
       "      <td>AC008993.2-001</td>\n",
       "      <td>basic</td>\n",
       "      <td>NA</td>\n",
       "      <td>OTTHUMT00000451405.4</td>\n",
       "      <td>NaN</td>\n",
       "      <td>NaN</td>\n",
       "      <td>NaN</td>\n",
       "      <td>NaN</td>\n",
       "      <td>NaN</td>\n",
       "    </tr>\n",
       "    <tr>\n",
       "      <th>2</th>\n",
       "      <td>chr19</td>\n",
       "      <td>HAVANA</td>\n",
       "      <td>exon</td>\n",
       "      <td>68402</td>\n",
       "      <td>69178</td>\n",
       "      <td>.</td>\n",
       "      <td>+</td>\n",
       "      <td>.</td>\n",
       "      <td>ENSG00000282542.1</td>\n",
       "      <td>TEC</td>\n",
       "      <td>...</td>\n",
       "      <td>KNOWN</td>\n",
       "      <td>AC008993.2-001</td>\n",
       "      <td>basic</td>\n",
       "      <td>NA</td>\n",
       "      <td>OTTHUMT00000451405.4</td>\n",
       "      <td>1</td>\n",
       "      <td>ENSE00003776314.1</td>\n",
       "      <td>NaN</td>\n",
       "      <td>NaN</td>\n",
       "      <td>NaN</td>\n",
       "    </tr>\n",
       "    <tr>\n",
       "      <th>3</th>\n",
       "      <td>chr19</td>\n",
       "      <td>HAVANA</td>\n",
       "      <td>gene</td>\n",
       "      <td>69166</td>\n",
       "      <td>69972</td>\n",
       "      <td>.</td>\n",
       "      <td>+</td>\n",
       "      <td>.</td>\n",
       "      <td>ENSG00000282798.1</td>\n",
       "      <td>TEC</td>\n",
       "      <td>...</td>\n",
       "      <td>NaN</td>\n",
       "      <td>NaN</td>\n",
       "      <td>NaN</td>\n",
       "      <td>NaN</td>\n",
       "      <td>NaN</td>\n",
       "      <td>NaN</td>\n",
       "      <td>NaN</td>\n",
       "      <td>NaN</td>\n",
       "      <td>NaN</td>\n",
       "      <td>NaN</td>\n",
       "    </tr>\n",
       "    <tr>\n",
       "      <th>4</th>\n",
       "      <td>chr19</td>\n",
       "      <td>HAVANA</td>\n",
       "      <td>transcript</td>\n",
       "      <td>69166</td>\n",
       "      <td>69972</td>\n",
       "      <td>.</td>\n",
       "      <td>+</td>\n",
       "      <td>.</td>\n",
       "      <td>ENSG00000282798.1</td>\n",
       "      <td>TEC</td>\n",
       "      <td>...</td>\n",
       "      <td>KNOWN</td>\n",
       "      <td>LLNLR-222A1.1-001</td>\n",
       "      <td>basic</td>\n",
       "      <td>NA</td>\n",
       "      <td>OTTHUMT00000484821.1</td>\n",
       "      <td>NaN</td>\n",
       "      <td>NaN</td>\n",
       "      <td>NaN</td>\n",
       "      <td>NaN</td>\n",
       "      <td>NaN</td>\n",
       "    </tr>\n",
       "    <tr>\n",
       "      <th>...</th>\n",
       "      <td>...</td>\n",
       "      <td>...</td>\n",
       "      <td>...</td>\n",
       "      <td>...</td>\n",
       "      <td>...</td>\n",
       "      <td>...</td>\n",
       "      <td>...</td>\n",
       "      <td>...</td>\n",
       "      <td>...</td>\n",
       "      <td>...</td>\n",
       "      <td>...</td>\n",
       "      <td>...</td>\n",
       "      <td>...</td>\n",
       "      <td>...</td>\n",
       "      <td>...</td>\n",
       "      <td>...</td>\n",
       "      <td>...</td>\n",
       "      <td>...</td>\n",
       "      <td>...</td>\n",
       "      <td>...</td>\n",
       "      <td>...</td>\n",
       "    </tr>\n",
       "    <tr>\n",
       "      <th>163196</th>\n",
       "      <td>chr19</td>\n",
       "      <td>HAVANA</td>\n",
       "      <td>exon</td>\n",
       "      <td>58597705</td>\n",
       "      <td>58597816</td>\n",
       "      <td>.</td>\n",
       "      <td>-</td>\n",
       "      <td>.</td>\n",
       "      <td>ENSG00000269600.1</td>\n",
       "      <td>antisense</td>\n",
       "      <td>...</td>\n",
       "      <td>KNOWN</td>\n",
       "      <td>AC016629.3-002</td>\n",
       "      <td>basic</td>\n",
       "      <td>3</td>\n",
       "      <td>OTTHUMT00000466989.1</td>\n",
       "      <td>2</td>\n",
       "      <td>ENSE00003217533.1</td>\n",
       "      <td>NaN</td>\n",
       "      <td>NaN</td>\n",
       "      <td>NaN</td>\n",
       "    </tr>\n",
       "    <tr>\n",
       "      <th>163197</th>\n",
       "      <td>chr19</td>\n",
       "      <td>HAVANA</td>\n",
       "      <td>exon</td>\n",
       "      <td>58593895</td>\n",
       "      <td>58594125</td>\n",
       "      <td>.</td>\n",
       "      <td>-</td>\n",
       "      <td>.</td>\n",
       "      <td>ENSG00000269600.1</td>\n",
       "      <td>antisense</td>\n",
       "      <td>...</td>\n",
       "      <td>KNOWN</td>\n",
       "      <td>AC016629.3-002</td>\n",
       "      <td>basic</td>\n",
       "      <td>3</td>\n",
       "      <td>OTTHUMT00000466989.1</td>\n",
       "      <td>3</td>\n",
       "      <td>ENSE00003183363.1</td>\n",
       "      <td>NaN</td>\n",
       "      <td>NaN</td>\n",
       "      <td>NaN</td>\n",
       "    </tr>\n",
       "    <tr>\n",
       "      <th>163198</th>\n",
       "      <td>chr19</td>\n",
       "      <td>HAVANA</td>\n",
       "      <td>transcript</td>\n",
       "      <td>58597182</td>\n",
       "      <td>58599355</td>\n",
       "      <td>.</td>\n",
       "      <td>-</td>\n",
       "      <td>.</td>\n",
       "      <td>ENSG00000269600.1</td>\n",
       "      <td>antisense</td>\n",
       "      <td>...</td>\n",
       "      <td>KNOWN</td>\n",
       "      <td>AC016629.3-001</td>\n",
       "      <td>basic</td>\n",
       "      <td>2</td>\n",
       "      <td>OTTHUMT00000466990.1</td>\n",
       "      <td>NaN</td>\n",
       "      <td>NaN</td>\n",
       "      <td>NaN</td>\n",
       "      <td>NaN</td>\n",
       "      <td>NaN</td>\n",
       "    </tr>\n",
       "    <tr>\n",
       "      <th>163199</th>\n",
       "      <td>chr19</td>\n",
       "      <td>HAVANA</td>\n",
       "      <td>exon</td>\n",
       "      <td>58599099</td>\n",
       "      <td>58599355</td>\n",
       "      <td>.</td>\n",
       "      <td>-</td>\n",
       "      <td>.</td>\n",
       "      <td>ENSG00000269600.1</td>\n",
       "      <td>antisense</td>\n",
       "      <td>...</td>\n",
       "      <td>KNOWN</td>\n",
       "      <td>AC016629.3-001</td>\n",
       "      <td>basic</td>\n",
       "      <td>2</td>\n",
       "      <td>OTTHUMT00000466990.1</td>\n",
       "      <td>1</td>\n",
       "      <td>ENSE00003187300.1</td>\n",
       "      <td>NaN</td>\n",
       "      <td>NaN</td>\n",
       "      <td>NaN</td>\n",
       "    </tr>\n",
       "    <tr>\n",
       "      <th>163200</th>\n",
       "      <td>chr19</td>\n",
       "      <td>HAVANA</td>\n",
       "      <td>exon</td>\n",
       "      <td>58597182</td>\n",
       "      <td>58597816</td>\n",
       "      <td>.</td>\n",
       "      <td>-</td>\n",
       "      <td>.</td>\n",
       "      <td>ENSG00000269600.1</td>\n",
       "      <td>antisense</td>\n",
       "      <td>...</td>\n",
       "      <td>KNOWN</td>\n",
       "      <td>AC016629.3-001</td>\n",
       "      <td>basic</td>\n",
       "      <td>2</td>\n",
       "      <td>OTTHUMT00000466990.1</td>\n",
       "      <td>2</td>\n",
       "      <td>ENSE00002978226.1</td>\n",
       "      <td>NaN</td>\n",
       "      <td>NaN</td>\n",
       "      <td>NaN</td>\n",
       "    </tr>\n",
       "  </tbody>\n",
       "</table>\n",
       "<p>163201 rows × 26 columns</p>\n",
       "</div>"
      ],
      "text/plain": [
       "+--------------+------------+--------------+-----------+-----------+------------+--------------+------------+-------------------+-------------+---------------+---------------+------------+----------------------+-------+\n",
       "| Chromosome   | Source     | Feature      | Start     | End       | Score      | Strand       | Frame      | gene_id           | gene_type   | gene_status   | gene_name     | level      | havana_gene          | +12   |\n",
       "| (category)   | (object)   | (category)   | (int32)   | (int32)   | (object)   | (category)   | (object)   | (object)          | (object)    | (object)      | (object)      | (object)   | (object)             | ...   |\n",
       "|--------------+------------+--------------+-----------+-----------+------------+--------------+------------+-------------------+-------------+---------------+---------------+------------+----------------------+-------|\n",
       "| chr19        | HAVANA     | gene         | 68402     | 69178     | .          | +            | .          | ENSG00000282542.1 | TEC         | KNOWN         | AC008993.2    | 2          | OTTHUMG00000180450.4 | ...   |\n",
       "| chr19        | HAVANA     | transcript   | 68402     | 69178     | .          | +            | .          | ENSG00000282542.1 | TEC         | KNOWN         | AC008993.2    | 2          | OTTHUMG00000180450.4 | ...   |\n",
       "| chr19        | HAVANA     | exon         | 68402     | 69178     | .          | +            | .          | ENSG00000282542.1 | TEC         | KNOWN         | AC008993.2    | 2          | OTTHUMG00000180450.4 | ...   |\n",
       "| chr19        | HAVANA     | gene         | 69166     | 69972     | .          | +            | .          | ENSG00000282798.1 | TEC         | KNOWN         | LLNLR-222A1.1 | 2          | OTTHUMG00000190399.1 | ...   |\n",
       "| ...          | ...        | ...          | ...       | ...       | ...        | ...          | ...        | ...               | ...         | ...           | ...           | ...        | ...                  | ...   |\n",
       "| chr19        | HAVANA     | exon         | 58593895  | 58594125  | .          | -            | .          | ENSG00000269600.1 | antisense   | KNOWN         | AC016629.3    | 2          | OTTHUMG00000183526.1 | ...   |\n",
       "| chr19        | HAVANA     | transcript   | 58597182  | 58599355  | .          | -            | .          | ENSG00000269600.1 | antisense   | KNOWN         | AC016629.3    | 2          | OTTHUMG00000183526.1 | ...   |\n",
       "| chr19        | HAVANA     | exon         | 58599099  | 58599355  | .          | -            | .          | ENSG00000269600.1 | antisense   | KNOWN         | AC016629.3    | 2          | OTTHUMG00000183526.1 | ...   |\n",
       "| chr19        | HAVANA     | exon         | 58597182  | 58597816  | .          | -            | .          | ENSG00000269600.1 | antisense   | KNOWN         | AC016629.3    | 2          | OTTHUMG00000183526.1 | ...   |\n",
       "+--------------+------------+--------------+-----------+-----------+------------+--------------+------------+-------------------+-------------+---------------+---------------+------------+----------------------+-------+\n",
       "Stranded PyRanges object has 163,201 rows and 26 columns from 1 chromosomes.\n",
       "For printing, the PyRanges was sorted on Chromosome and Strand.\n",
       "12 hidden columns: transcript_id, transcript_type, transcript_status, transcript_name, tag, transcript_support_level, havana_transcript, exon_number, exon_id, ont, protein_id, ccdsid"
      ]
     },
     "execution_count": 37,
     "metadata": {},
     "output_type": "execute_result"
    }
   ],
   "source": [
    "# literally pandas dataframe\n",
    "gr"
   ]
  },
  {
   "cell_type": "markdown",
   "metadata": {},
   "source": [
    "_** IMPORTANT **_\n",
    "\n",
    "SEQC strips out the gene version number (e.g. suffix such as `.1`, `.4`, ...)"
   ]
  },
  {
   "cell_type": "code",
   "execution_count": 38,
   "metadata": {
    "ExecuteTime": {
     "end_time": "2021-08-21T12:19:16.628248Z",
     "start_time": "2021-08-21T12:19:16.595014Z"
    }
   },
   "outputs": [
    {
     "data": {
      "text/plain": [
       "31        False\n",
       "32        False\n",
       "33        False\n",
       "34        False\n",
       "35        False\n",
       "          ...  \n",
       "163196    False\n",
       "163197    False\n",
       "163198    False\n",
       "163199    False\n",
       "163200    False\n",
       "Name: gene_id, Length: 163201, dtype: bool"
      ]
     },
     "execution_count": 38,
     "metadata": {},
     "output_type": "execute_result"
    }
   ],
   "source": [
    "mask = (gr.gene_id == gene_id + \".4\")\n",
    "mask"
   ]
  },
  {
   "cell_type": "code",
   "execution_count": 39,
   "metadata": {
    "ExecuteTime": {
     "end_time": "2021-08-21T12:19:16.694562Z",
     "start_time": "2021-08-21T12:19:16.630311Z"
    }
   },
   "outputs": [
    {
     "data": {
      "text/html": [
       "<div>\n",
       "<style scoped>\n",
       "    .dataframe tbody tr th:only-of-type {\n",
       "        vertical-align: middle;\n",
       "    }\n",
       "\n",
       "    .dataframe tbody tr th {\n",
       "        vertical-align: top;\n",
       "    }\n",
       "\n",
       "    .dataframe thead th {\n",
       "        text-align: right;\n",
       "    }\n",
       "</style>\n",
       "<table border=\"1\" class=\"dataframe\">\n",
       "  <thead>\n",
       "    <tr style=\"text-align: right;\">\n",
       "      <th></th>\n",
       "      <th>Chromosome</th>\n",
       "      <th>Source</th>\n",
       "      <th>Feature</th>\n",
       "      <th>Start</th>\n",
       "      <th>End</th>\n",
       "      <th>Score</th>\n",
       "      <th>Strand</th>\n",
       "      <th>Frame</th>\n",
       "      <th>gene_id</th>\n",
       "      <th>gene_type</th>\n",
       "      <th>...</th>\n",
       "      <th>transcript_status</th>\n",
       "      <th>transcript_name</th>\n",
       "      <th>tag</th>\n",
       "      <th>transcript_support_level</th>\n",
       "      <th>havana_transcript</th>\n",
       "      <th>exon_number</th>\n",
       "      <th>exon_id</th>\n",
       "      <th>ont</th>\n",
       "      <th>protein_id</th>\n",
       "      <th>ccdsid</th>\n",
       "    </tr>\n",
       "  </thead>\n",
       "  <tbody>\n",
       "    <tr>\n",
       "      <th>0</th>\n",
       "      <td>chr19</td>\n",
       "      <td>HAVANA</td>\n",
       "      <td>gene</td>\n",
       "      <td>15611656</td>\n",
       "      <td>15612122</td>\n",
       "      <td>.</td>\n",
       "      <td>+</td>\n",
       "      <td>.</td>\n",
       "      <td>ENSG00000225067.4</td>\n",
       "      <td>processed_pseudogene</td>\n",
       "      <td>...</td>\n",
       "      <td>NaN</td>\n",
       "      <td>NaN</td>\n",
       "      <td>pseudo_consens</td>\n",
       "      <td>NaN</td>\n",
       "      <td>NaN</td>\n",
       "      <td>NaN</td>\n",
       "      <td>NaN</td>\n",
       "      <td>NaN</td>\n",
       "      <td>NaN</td>\n",
       "      <td>NaN</td>\n",
       "    </tr>\n",
       "    <tr>\n",
       "      <th>1</th>\n",
       "      <td>chr19</td>\n",
       "      <td>HAVANA</td>\n",
       "      <td>transcript</td>\n",
       "      <td>15611656</td>\n",
       "      <td>15612122</td>\n",
       "      <td>.</td>\n",
       "      <td>+</td>\n",
       "      <td>.</td>\n",
       "      <td>ENSG00000225067.4</td>\n",
       "      <td>processed_pseudogene</td>\n",
       "      <td>...</td>\n",
       "      <td>KNOWN</td>\n",
       "      <td>RPL23AP2-001</td>\n",
       "      <td>basic</td>\n",
       "      <td>NA</td>\n",
       "      <td>OTTHUMT00000350064.3</td>\n",
       "      <td>NaN</td>\n",
       "      <td>NaN</td>\n",
       "      <td>PGO:0000004</td>\n",
       "      <td>NaN</td>\n",
       "      <td>NaN</td>\n",
       "    </tr>\n",
       "    <tr>\n",
       "      <th>2</th>\n",
       "      <td>chr19</td>\n",
       "      <td>HAVANA</td>\n",
       "      <td>exon</td>\n",
       "      <td>15611656</td>\n",
       "      <td>15612122</td>\n",
       "      <td>.</td>\n",
       "      <td>+</td>\n",
       "      <td>.</td>\n",
       "      <td>ENSG00000225067.4</td>\n",
       "      <td>processed_pseudogene</td>\n",
       "      <td>...</td>\n",
       "      <td>KNOWN</td>\n",
       "      <td>RPL23AP2-001</td>\n",
       "      <td>basic</td>\n",
       "      <td>NA</td>\n",
       "      <td>OTTHUMT00000350064.3</td>\n",
       "      <td>1</td>\n",
       "      <td>ENSE00001824478.3</td>\n",
       "      <td>PGO:0000004</td>\n",
       "      <td>NaN</td>\n",
       "      <td>NaN</td>\n",
       "    </tr>\n",
       "  </tbody>\n",
       "</table>\n",
       "<p>3 rows × 26 columns</p>\n",
       "</div>"
      ],
      "text/plain": [
       "+--------------+------------+--------------+-----------+-----------+------------+--------------+------------+-------------------+----------------------+---------------+-------------+------------+----------------------+-------+\n",
       "| Chromosome   | Source     | Feature      |     Start |       End | Score      | Strand       | Frame      | gene_id           | gene_type            | gene_status   | gene_name   |      level | havana_gene          | +12   |\n",
       "| (category)   | (object)   | (category)   |   (int32) |   (int32) | (object)   | (category)   | (object)   | (object)          | (object)             | (object)      | (object)    |   (object) | (object)             | ...   |\n",
       "|--------------+------------+--------------+-----------+-----------+------------+--------------+------------+-------------------+----------------------+---------------+-------------+------------+----------------------+-------|\n",
       "| chr19        | HAVANA     | gene         |  15611656 |  15612122 | .          | +            | .          | ENSG00000225067.4 | processed_pseudogene | KNOWN         | RPL23AP2    |          1 | OTTHUMG00000158039.3 | ...   |\n",
       "| chr19        | HAVANA     | transcript   |  15611656 |  15612122 | .          | +            | .          | ENSG00000225067.4 | processed_pseudogene | KNOWN         | RPL23AP2    |          1 | OTTHUMG00000158039.3 | ...   |\n",
       "| chr19        | HAVANA     | exon         |  15611656 |  15612122 | .          | +            | .          | ENSG00000225067.4 | processed_pseudogene | KNOWN         | RPL23AP2    |          1 | OTTHUMG00000158039.3 | ...   |\n",
       "+--------------+------------+--------------+-----------+-----------+------------+--------------+------------+-------------------+----------------------+---------------+-------------+------------+----------------------+-------+\n",
       "Stranded PyRanges object has 3 rows and 26 columns from 1 chromosomes.\n",
       "For printing, the PyRanges was sorted on Chromosome and Strand.\n",
       "12 hidden columns: transcript_id, transcript_type, transcript_status, transcript_name, tag, transcript_support_level, havana_transcript, exon_number, exon_id, ont, protein_id, ccdsid"
      ]
     },
     "execution_count": 39,
     "metadata": {},
     "output_type": "execute_result"
    }
   ],
   "source": [
    "gr[ mask ]"
   ]
  },
  {
   "cell_type": "code",
   "execution_count": 40,
   "metadata": {
    "ExecuteTime": {
     "end_time": "2021-08-21T12:19:17.882684Z",
     "start_time": "2021-08-21T12:19:16.695785Z"
    }
   },
   "outputs": [
    {
     "data": {
      "text/html": [
       "<div>\n",
       "<style scoped>\n",
       "    .dataframe tbody tr th:only-of-type {\n",
       "        vertical-align: middle;\n",
       "    }\n",
       "\n",
       "    .dataframe tbody tr th {\n",
       "        vertical-align: top;\n",
       "    }\n",
       "\n",
       "    .dataframe thead th {\n",
       "        text-align: right;\n",
       "    }\n",
       "</style>\n",
       "<table border=\"1\" class=\"dataframe\">\n",
       "  <thead>\n",
       "    <tr style=\"text-align: right;\">\n",
       "      <th></th>\n",
       "      <th>Index</th>\n",
       "      <th>Chromosome</th>\n",
       "      <th>Source</th>\n",
       "      <th>Feature</th>\n",
       "      <th>Start</th>\n",
       "      <th>End</th>\n",
       "      <th>Score</th>\n",
       "      <th>Strand</th>\n",
       "      <th>Frame</th>\n",
       "      <th>gene_id</th>\n",
       "      <th>...</th>\n",
       "      <th>transcript_status</th>\n",
       "      <th>transcript_name</th>\n",
       "      <th>tag</th>\n",
       "      <th>transcript_support_level</th>\n",
       "      <th>havana_transcript</th>\n",
       "      <th>exon_number</th>\n",
       "      <th>exon_id</th>\n",
       "      <th>ont</th>\n",
       "      <th>protein_id</th>\n",
       "      <th>ccdsid</th>\n",
       "    </tr>\n",
       "  </thead>\n",
       "  <tbody>\n",
       "    <tr>\n",
       "      <th>0</th>\n",
       "      <td>25282</td>\n",
       "      <td>chr19</td>\n",
       "      <td>HAVANA</td>\n",
       "      <td>gene</td>\n",
       "      <td>15611656</td>\n",
       "      <td>15612122</td>\n",
       "      <td>.</td>\n",
       "      <td>+</td>\n",
       "      <td>.</td>\n",
       "      <td>ENSG00000225067.4</td>\n",
       "      <td>...</td>\n",
       "      <td>NaN</td>\n",
       "      <td>NaN</td>\n",
       "      <td>pseudo_consens</td>\n",
       "      <td>NaN</td>\n",
       "      <td>NaN</td>\n",
       "      <td>NaN</td>\n",
       "      <td>NaN</td>\n",
       "      <td>NaN</td>\n",
       "      <td>NaN</td>\n",
       "      <td>NaN</td>\n",
       "    </tr>\n",
       "    <tr>\n",
       "      <th>1</th>\n",
       "      <td>25283</td>\n",
       "      <td>chr19</td>\n",
       "      <td>HAVANA</td>\n",
       "      <td>transcript</td>\n",
       "      <td>15611656</td>\n",
       "      <td>15612122</td>\n",
       "      <td>.</td>\n",
       "      <td>+</td>\n",
       "      <td>.</td>\n",
       "      <td>ENSG00000225067.4</td>\n",
       "      <td>...</td>\n",
       "      <td>KNOWN</td>\n",
       "      <td>RPL23AP2-001</td>\n",
       "      <td>basic</td>\n",
       "      <td>NA</td>\n",
       "      <td>OTTHUMT00000350064.3</td>\n",
       "      <td>NaN</td>\n",
       "      <td>NaN</td>\n",
       "      <td>PGO:0000004</td>\n",
       "      <td>NaN</td>\n",
       "      <td>NaN</td>\n",
       "    </tr>\n",
       "    <tr>\n",
       "      <th>2</th>\n",
       "      <td>25284</td>\n",
       "      <td>chr19</td>\n",
       "      <td>HAVANA</td>\n",
       "      <td>exon</td>\n",
       "      <td>15611656</td>\n",
       "      <td>15612122</td>\n",
       "      <td>.</td>\n",
       "      <td>+</td>\n",
       "      <td>.</td>\n",
       "      <td>ENSG00000225067.4</td>\n",
       "      <td>...</td>\n",
       "      <td>KNOWN</td>\n",
       "      <td>RPL23AP2-001</td>\n",
       "      <td>basic</td>\n",
       "      <td>NA</td>\n",
       "      <td>OTTHUMT00000350064.3</td>\n",
       "      <td>1</td>\n",
       "      <td>ENSE00001824478.3</td>\n",
       "      <td>PGO:0000004</td>\n",
       "      <td>NaN</td>\n",
       "      <td>NaN</td>\n",
       "    </tr>\n",
       "  </tbody>\n",
       "</table>\n",
       "<p>3 rows × 27 columns</p>\n",
       "</div>"
      ],
      "text/plain": [
       "   Index Chromosome  Source     Feature     Start       End Score Strand  \\\n",
       "0  25282      chr19  HAVANA        gene  15611656  15612122     .      +   \n",
       "1  25283      chr19  HAVANA  transcript  15611656  15612122     .      +   \n",
       "2  25284      chr19  HAVANA        exon  15611656  15612122     .      +   \n",
       "\n",
       "  Frame            gene_id  ... transcript_status transcript_name  \\\n",
       "0     .  ENSG00000225067.4  ...               NaN             NaN   \n",
       "1     .  ENSG00000225067.4  ...             KNOWN    RPL23AP2-001   \n",
       "2     .  ENSG00000225067.4  ...             KNOWN    RPL23AP2-001   \n",
       "\n",
       "              tag transcript_support_level     havana_transcript exon_number  \\\n",
       "0  pseudo_consens                      NaN                   NaN         NaN   \n",
       "1           basic                       NA  OTTHUMT00000350064.3         NaN   \n",
       "2           basic                       NA  OTTHUMT00000350064.3           1   \n",
       "\n",
       "             exon_id          ont protein_id ccdsid  \n",
       "0                NaN          NaN        NaN    NaN  \n",
       "1                NaN  PGO:0000004        NaN    NaN  \n",
       "2  ENSE00001824478.3  PGO:0000004        NaN    NaN  \n",
       "\n",
       "[3 rows x 27 columns]"
      ]
     },
     "execution_count": 40,
     "metadata": {},
     "output_type": "execute_result"
    }
   ],
   "source": [
    "found = []\n",
    "\n",
    "# to treat really like pandas dataframe, use the `.as_df()` method\n",
    "for row in gr.as_df().itertuples():\n",
    "    if gene_id in row.gene_id:\n",
    "        found.append(row)\n",
    "        \n",
    "pd.DataFrame(found)"
   ]
  },
  {
   "cell_type": "code",
   "execution_count": null,
   "metadata": {},
   "outputs": [],
   "source": []
  }
 ],
 "metadata": {
  "kernelspec": {
   "display_name": "Python 3",
   "language": "python",
   "name": "python3"
  },
  "language_info": {
   "codemirror_mode": {
    "name": "ipython",
    "version": 3
   },
   "file_extension": ".py",
   "mimetype": "text/x-python",
   "name": "python",
   "nbconvert_exporter": "python",
   "pygments_lexer": "ipython3",
   "version": "3.7.7"
  },
  "toc": {
   "base_numbering": 1,
   "nav_menu": {},
   "number_sections": true,
   "sideBar": true,
   "skip_h1_title": false,
   "title_cell": "Table of Contents",
   "title_sidebar": "Contents",
   "toc_cell": false,
   "toc_position": {
    "height": "calc(100% - 180px)",
    "left": "10px",
    "top": "150px",
    "width": "212.594px"
   },
   "toc_section_display": true,
   "toc_window_display": true
  }
 },
 "nbformat": 4,
 "nbformat_minor": 4
}

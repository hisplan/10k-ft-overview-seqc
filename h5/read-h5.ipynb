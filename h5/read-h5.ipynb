{
 "cells": [
  {
   "cell_type": "code",
   "execution_count": 1,
   "metadata": {
    "ExecuteTime": {
     "end_time": "2021-06-16T19:12:18.163525Z",
     "start_time": "2021-06-16T19:12:17.888001Z"
    }
   },
   "outputs": [],
   "source": [
    "import os\n",
    "import pandas as pd"
   ]
  },
  {
   "cell_type": "code",
   "execution_count": 2,
   "metadata": {
    "ExecuteTime": {
     "end_time": "2021-06-16T19:12:18.292443Z",
     "start_time": "2021-06-16T19:12:18.165707Z"
    }
   },
   "outputs": [
    {
     "name": "stdout",
     "output_type": "stream",
     "text": [
      "\u001b[01;34m..\u001b[00m\r\n",
      "├── README.md\r\n",
      "├── \u001b[01;34mdataset\u001b[00m\r\n",
      "├── \u001b[01;34mdocs\u001b[00m\r\n",
      "├── \u001b[01;34mgtf\u001b[00m\r\n",
      "├── \u001b[01;34mh5\u001b[00m\r\n",
      "└── process-overview.pdf\r\n",
      "\r\n",
      "4 directories, 2 files\r\n"
     ]
    }
   ],
   "source": [
    "!tree .. -L 1"
   ]
  },
  {
   "cell_type": "code",
   "execution_count": 3,
   "metadata": {
    "ExecuteTime": {
     "end_time": "2021-06-16T19:12:18.297311Z",
     "start_time": "2021-06-16T19:12:18.294371Z"
    }
   },
   "outputs": [],
   "source": [
    "path_data = \"../dataset/\"\n",
    "path_gtf = \"../gtf/annotations.gtf.gz\"\n",
    "path_aligned_bam = os.path.join(path_data, \"test_Aligned.out.bam\")\n",
    "path_h5 = os.path.join(path_data, \"test.h5\")"
   ]
  },
  {
   "cell_type": "markdown",
   "metadata": {},
   "source": [
    "## Load ReadArray (*.h5)"
   ]
  },
  {
   "cell_type": "code",
   "execution_count": 4,
   "metadata": {
    "ExecuteTime": {
     "end_time": "2021-06-16T19:12:18.816123Z",
     "start_time": "2021-06-16T19:12:18.299142Z"
    }
   },
   "outputs": [],
   "source": [
    "from seqc.read_array import ReadArray"
   ]
  },
  {
   "cell_type": "code",
   "execution_count": 5,
   "metadata": {
    "ExecuteTime": {
     "end_time": "2021-06-16T19:12:18.836654Z",
     "start_time": "2021-06-16T19:12:18.817538Z"
    }
   },
   "outputs": [],
   "source": [
    "ra = ReadArray.load(path_h5)"
   ]
  },
  {
   "cell_type": "code",
   "execution_count": 6,
   "metadata": {
    "ExecuteTime": {
     "end_time": "2021-06-16T19:12:18.846135Z",
     "start_time": "2021-06-16T19:12:18.838313Z"
    }
   },
   "outputs": [
    {
     "data": {
      "text/plain": [
       "<seqc.read_array.ReadArray at 0x7fbf50b2a310>"
      ]
     },
     "execution_count": 6,
     "metadata": {},
     "output_type": "execute_result"
    }
   ],
   "source": [
    "ra"
   ]
  },
  {
   "cell_type": "markdown",
   "metadata": {},
   "source": [
    "## Explore ReadArray"
   ]
  },
  {
   "cell_type": "markdown",
   "metadata": {},
   "source": [
    "### ra.filter_codes"
   ]
  },
  {
   "cell_type": "code",
   "execution_count": 7,
   "metadata": {
    "ExecuteTime": {
     "end_time": "2021-06-16T19:12:18.851941Z",
     "start_time": "2021-06-16T19:12:18.848347Z"
    }
   },
   "outputs": [
    {
     "data": {
      "text/plain": [
       "{'no_gene': 1,\n",
       " 'rmt_error': 2,\n",
       " 'cell_error': 4,\n",
       " 'low_polyt': 8,\n",
       " 'gene_not_unique': 16,\n",
       " 'primer_missing': 32,\n",
       " 'lonely_triplet': 64}"
      ]
     },
     "execution_count": 7,
     "metadata": {},
     "output_type": "execute_result"
    }
   ],
   "source": [
    "ra.filter_codes"
   ]
  },
  {
   "cell_type": "markdown",
   "metadata": {},
   "source": [
    "### ra.data"
   ]
  },
  {
   "cell_type": "code",
   "execution_count": 8,
   "metadata": {
    "ExecuteTime": {
     "end_time": "2021-06-16T19:12:18.857485Z",
     "start_time": "2021-06-16T19:12:18.853797Z"
    }
   },
   "outputs": [
    {
     "data": {
      "text/plain": [
       "array([(1, 200983461452598, 38446774684, 0),\n",
       "       (1, 232448540961013, 40377936093, 0),\n",
       "       (0, 200570500499883, 41267181429, 0), ...,\n",
       "       (1, 169038985719156, 33098951083, 0),\n",
       "       (1, 231840668564334, 31598787309, 0),\n",
       "       (1, 161332457818475, 32723551981, 0)],\n",
       "      dtype=[('status', 'u1'), ('cell', '<i8'), ('rmt', '<i8'), ('n_poly_t', 'u1')])"
      ]
     },
     "execution_count": 8,
     "metadata": {},
     "output_type": "execute_result"
    }
   ],
   "source": [
    "ra.data"
   ]
  },
  {
   "cell_type": "code",
   "execution_count": 9,
   "metadata": {
    "ExecuteTime": {
     "end_time": "2021-06-16T19:12:18.862068Z",
     "start_time": "2021-06-16T19:12:18.858875Z"
    }
   },
   "outputs": [
    {
     "data": {
      "text/plain": [
       "252735"
      ]
     },
     "execution_count": 9,
     "metadata": {},
     "output_type": "execute_result"
    }
   ],
   "source": [
    "len(ra.data)"
   ]
  },
  {
   "cell_type": "code",
   "execution_count": 10,
   "metadata": {
    "ExecuteTime": {
     "end_time": "2021-06-16T19:12:18.880578Z",
     "start_time": "2021-06-16T19:12:18.863847Z"
    }
   },
   "outputs": [
    {
     "data": {
      "text/html": [
       "<div>\n",
       "<style scoped>\n",
       "    .dataframe tbody tr th:only-of-type {\n",
       "        vertical-align: middle;\n",
       "    }\n",
       "\n",
       "    .dataframe tbody tr th {\n",
       "        vertical-align: top;\n",
       "    }\n",
       "\n",
       "    .dataframe thead th {\n",
       "        text-align: right;\n",
       "    }\n",
       "</style>\n",
       "<table border=\"1\" class=\"dataframe\">\n",
       "  <thead>\n",
       "    <tr style=\"text-align: right;\">\n",
       "      <th></th>\n",
       "      <th>status</th>\n",
       "      <th>cell</th>\n",
       "      <th>rmt</th>\n",
       "      <th>n_poly_t</th>\n",
       "    </tr>\n",
       "  </thead>\n",
       "  <tbody>\n",
       "    <tr>\n",
       "      <th>0</th>\n",
       "      <td>1</td>\n",
       "      <td>200983461452598</td>\n",
       "      <td>38446774684</td>\n",
       "      <td>0</td>\n",
       "    </tr>\n",
       "    <tr>\n",
       "      <th>1</th>\n",
       "      <td>1</td>\n",
       "      <td>232448540961013</td>\n",
       "      <td>40377936093</td>\n",
       "      <td>0</td>\n",
       "    </tr>\n",
       "    <tr>\n",
       "      <th>2</th>\n",
       "      <td>0</td>\n",
       "      <td>200570500499883</td>\n",
       "      <td>41267181429</td>\n",
       "      <td>0</td>\n",
       "    </tr>\n",
       "    <tr>\n",
       "      <th>3</th>\n",
       "      <td>1</td>\n",
       "      <td>231772364696924</td>\n",
       "      <td>41564723102</td>\n",
       "      <td>0</td>\n",
       "    </tr>\n",
       "    <tr>\n",
       "      <th>4</th>\n",
       "      <td>1</td>\n",
       "      <td>227499945647347</td>\n",
       "      <td>39153163702</td>\n",
       "      <td>0</td>\n",
       "    </tr>\n",
       "    <tr>\n",
       "      <th>...</th>\n",
       "      <td>...</td>\n",
       "      <td>...</td>\n",
       "      <td>...</td>\n",
       "      <td>...</td>\n",
       "    </tr>\n",
       "    <tr>\n",
       "      <th>252730</th>\n",
       "      <td>1</td>\n",
       "      <td>169082619287347</td>\n",
       "      <td>49237838683</td>\n",
       "      <td>0</td>\n",
       "    </tr>\n",
       "    <tr>\n",
       "      <th>252731</th>\n",
       "      <td>1</td>\n",
       "      <td>164701771590046</td>\n",
       "      <td>57689455348</td>\n",
       "      <td>0</td>\n",
       "    </tr>\n",
       "    <tr>\n",
       "      <th>252732</th>\n",
       "      <td>1</td>\n",
       "      <td>169038985719156</td>\n",
       "      <td>33098951083</td>\n",
       "      <td>0</td>\n",
       "    </tr>\n",
       "    <tr>\n",
       "      <th>252733</th>\n",
       "      <td>1</td>\n",
       "      <td>231840668564334</td>\n",
       "      <td>31598787309</td>\n",
       "      <td>0</td>\n",
       "    </tr>\n",
       "    <tr>\n",
       "      <th>252734</th>\n",
       "      <td>1</td>\n",
       "      <td>161332457818475</td>\n",
       "      <td>32723551981</td>\n",
       "      <td>0</td>\n",
       "    </tr>\n",
       "  </tbody>\n",
       "</table>\n",
       "<p>252735 rows × 4 columns</p>\n",
       "</div>"
      ],
      "text/plain": [
       "        status             cell          rmt  n_poly_t\n",
       "0            1  200983461452598  38446774684         0\n",
       "1            1  232448540961013  40377936093         0\n",
       "2            0  200570500499883  41267181429         0\n",
       "3            1  231772364696924  41564723102         0\n",
       "4            1  227499945647347  39153163702         0\n",
       "...        ...              ...          ...       ...\n",
       "252730       1  169082619287347  49237838683         0\n",
       "252731       1  164701771590046  57689455348         0\n",
       "252732       1  169038985719156  33098951083         0\n",
       "252733       1  231840668564334  31598787309         0\n",
       "252734       1  161332457818475  32723551981         0\n",
       "\n",
       "[252735 rows x 4 columns]"
      ]
     },
     "execution_count": 10,
     "metadata": {},
     "output_type": "execute_result"
    }
   ],
   "source": [
    "df_data = pd.DataFrame(ra.data)\n",
    "df_data"
   ]
  },
  {
   "cell_type": "markdown",
   "metadata": {},
   "source": [
    "### ra.genes"
   ]
  },
  {
   "cell_type": "code",
   "execution_count": 11,
   "metadata": {
    "ExecuteTime": {
     "end_time": "2021-06-16T19:12:18.885285Z",
     "start_time": "2021-06-16T19:12:18.882027Z"
    }
   },
   "outputs": [
    {
     "data": {
      "text/plain": [
       "array([     0,      0, 225067, ...,      0,      0,      0], dtype=int32)"
      ]
     },
     "execution_count": 11,
     "metadata": {},
     "output_type": "execute_result"
    }
   ],
   "source": [
    "ra.genes"
   ]
  },
  {
   "cell_type": "code",
   "execution_count": 12,
   "metadata": {
    "ExecuteTime": {
     "end_time": "2021-06-16T19:12:18.891100Z",
     "start_time": "2021-06-16T19:12:18.887408Z"
    }
   },
   "outputs": [
    {
     "data": {
      "text/plain": [
       "252735"
      ]
     },
     "execution_count": 12,
     "metadata": {},
     "output_type": "execute_result"
    }
   ],
   "source": [
    "len(ra.genes)"
   ]
  },
  {
   "cell_type": "code",
   "execution_count": 13,
   "metadata": {
    "ExecuteTime": {
     "end_time": "2021-06-16T19:12:18.900884Z",
     "start_time": "2021-06-16T19:12:18.892797Z"
    }
   },
   "outputs": [
    {
     "data": {
      "text/html": [
       "<div>\n",
       "<style scoped>\n",
       "    .dataframe tbody tr th:only-of-type {\n",
       "        vertical-align: middle;\n",
       "    }\n",
       "\n",
       "    .dataframe tbody tr th {\n",
       "        vertical-align: top;\n",
       "    }\n",
       "\n",
       "    .dataframe thead th {\n",
       "        text-align: right;\n",
       "    }\n",
       "</style>\n",
       "<table border=\"1\" class=\"dataframe\">\n",
       "  <thead>\n",
       "    <tr style=\"text-align: right;\">\n",
       "      <th></th>\n",
       "      <th>genes</th>\n",
       "    </tr>\n",
       "  </thead>\n",
       "  <tbody>\n",
       "    <tr>\n",
       "      <th>0</th>\n",
       "      <td>0</td>\n",
       "    </tr>\n",
       "    <tr>\n",
       "      <th>1</th>\n",
       "      <td>0</td>\n",
       "    </tr>\n",
       "    <tr>\n",
       "      <th>2</th>\n",
       "      <td>225067</td>\n",
       "    </tr>\n",
       "    <tr>\n",
       "      <th>3</th>\n",
       "      <td>0</td>\n",
       "    </tr>\n",
       "    <tr>\n",
       "      <th>4</th>\n",
       "      <td>0</td>\n",
       "    </tr>\n",
       "    <tr>\n",
       "      <th>...</th>\n",
       "      <td>...</td>\n",
       "    </tr>\n",
       "    <tr>\n",
       "      <th>252730</th>\n",
       "      <td>0</td>\n",
       "    </tr>\n",
       "    <tr>\n",
       "      <th>252731</th>\n",
       "      <td>0</td>\n",
       "    </tr>\n",
       "    <tr>\n",
       "      <th>252732</th>\n",
       "      <td>0</td>\n",
       "    </tr>\n",
       "    <tr>\n",
       "      <th>252733</th>\n",
       "      <td>0</td>\n",
       "    </tr>\n",
       "    <tr>\n",
       "      <th>252734</th>\n",
       "      <td>0</td>\n",
       "    </tr>\n",
       "  </tbody>\n",
       "</table>\n",
       "<p>252735 rows × 1 columns</p>\n",
       "</div>"
      ],
      "text/plain": [
       "         genes\n",
       "0            0\n",
       "1            0\n",
       "2       225067\n",
       "3            0\n",
       "4            0\n",
       "...        ...\n",
       "252730       0\n",
       "252731       0\n",
       "252732       0\n",
       "252733       0\n",
       "252734       0\n",
       "\n",
       "[252735 rows x 1 columns]"
      ]
     },
     "execution_count": 13,
     "metadata": {},
     "output_type": "execute_result"
    }
   ],
   "source": [
    "df_genes = pd.DataFrame(ra.genes, columns=[\"genes\"])\n",
    "df_genes"
   ]
  },
  {
   "cell_type": "markdown",
   "metadata": {},
   "source": [
    "### ra.positions"
   ]
  },
  {
   "cell_type": "code",
   "execution_count": 14,
   "metadata": {
    "ExecuteTime": {
     "end_time": "2021-06-16T19:12:18.906283Z",
     "start_time": "2021-06-16T19:12:18.902424Z"
    }
   },
   "outputs": [
    {
     "data": {
      "text/plain": [
       "array([       0,        0, 15611873, ...,        0,        0,        0],\n",
       "      dtype=int32)"
      ]
     },
     "execution_count": 14,
     "metadata": {},
     "output_type": "execute_result"
    }
   ],
   "source": [
    "ra.positions"
   ]
  },
  {
   "cell_type": "code",
   "execution_count": 15,
   "metadata": {
    "ExecuteTime": {
     "end_time": "2021-06-16T19:12:18.912233Z",
     "start_time": "2021-06-16T19:12:18.908267Z"
    }
   },
   "outputs": [
    {
     "data": {
      "text/plain": [
       "252735"
      ]
     },
     "execution_count": 15,
     "metadata": {},
     "output_type": "execute_result"
    }
   ],
   "source": [
    "len(ra.positions)"
   ]
  },
  {
   "cell_type": "code",
   "execution_count": 16,
   "metadata": {
    "ExecuteTime": {
     "end_time": "2021-06-16T19:12:18.921370Z",
     "start_time": "2021-06-16T19:12:18.914012Z"
    }
   },
   "outputs": [
    {
     "data": {
      "text/html": [
       "<div>\n",
       "<style scoped>\n",
       "    .dataframe tbody tr th:only-of-type {\n",
       "        vertical-align: middle;\n",
       "    }\n",
       "\n",
       "    .dataframe tbody tr th {\n",
       "        vertical-align: top;\n",
       "    }\n",
       "\n",
       "    .dataframe thead th {\n",
       "        text-align: right;\n",
       "    }\n",
       "</style>\n",
       "<table border=\"1\" class=\"dataframe\">\n",
       "  <thead>\n",
       "    <tr style=\"text-align: right;\">\n",
       "      <th></th>\n",
       "      <th>pos</th>\n",
       "    </tr>\n",
       "  </thead>\n",
       "  <tbody>\n",
       "    <tr>\n",
       "      <th>0</th>\n",
       "      <td>0</td>\n",
       "    </tr>\n",
       "    <tr>\n",
       "      <th>1</th>\n",
       "      <td>0</td>\n",
       "    </tr>\n",
       "    <tr>\n",
       "      <th>2</th>\n",
       "      <td>15611873</td>\n",
       "    </tr>\n",
       "    <tr>\n",
       "      <th>3</th>\n",
       "      <td>0</td>\n",
       "    </tr>\n",
       "    <tr>\n",
       "      <th>4</th>\n",
       "      <td>0</td>\n",
       "    </tr>\n",
       "    <tr>\n",
       "      <th>...</th>\n",
       "      <td>...</td>\n",
       "    </tr>\n",
       "    <tr>\n",
       "      <th>252730</th>\n",
       "      <td>0</td>\n",
       "    </tr>\n",
       "    <tr>\n",
       "      <th>252731</th>\n",
       "      <td>0</td>\n",
       "    </tr>\n",
       "    <tr>\n",
       "      <th>252732</th>\n",
       "      <td>0</td>\n",
       "    </tr>\n",
       "    <tr>\n",
       "      <th>252733</th>\n",
       "      <td>0</td>\n",
       "    </tr>\n",
       "    <tr>\n",
       "      <th>252734</th>\n",
       "      <td>0</td>\n",
       "    </tr>\n",
       "  </tbody>\n",
       "</table>\n",
       "<p>252735 rows × 1 columns</p>\n",
       "</div>"
      ],
      "text/plain": [
       "             pos\n",
       "0              0\n",
       "1              0\n",
       "2       15611873\n",
       "3              0\n",
       "4              0\n",
       "...          ...\n",
       "252730         0\n",
       "252731         0\n",
       "252732         0\n",
       "252733         0\n",
       "252734         0\n",
       "\n",
       "[252735 rows x 1 columns]"
      ]
     },
     "execution_count": 16,
     "metadata": {},
     "output_type": "execute_result"
    }
   ],
   "source": [
    "df_pos = pd.DataFrame(ra.positions, columns=[\"pos\"])\n",
    "df_pos"
   ]
  },
  {
   "cell_type": "markdown",
   "metadata": {},
   "source": [
    "## Merge"
   ]
  },
  {
   "cell_type": "code",
   "execution_count": 17,
   "metadata": {
    "ExecuteTime": {
     "end_time": "2021-06-16T19:12:18.939910Z",
     "start_time": "2021-06-16T19:12:18.922993Z"
    }
   },
   "outputs": [
    {
     "data": {
      "text/html": [
       "<div>\n",
       "<style scoped>\n",
       "    .dataframe tbody tr th:only-of-type {\n",
       "        vertical-align: middle;\n",
       "    }\n",
       "\n",
       "    .dataframe tbody tr th {\n",
       "        vertical-align: top;\n",
       "    }\n",
       "\n",
       "    .dataframe thead th {\n",
       "        text-align: right;\n",
       "    }\n",
       "</style>\n",
       "<table border=\"1\" class=\"dataframe\">\n",
       "  <thead>\n",
       "    <tr style=\"text-align: right;\">\n",
       "      <th></th>\n",
       "      <th>status</th>\n",
       "      <th>cell</th>\n",
       "      <th>rmt</th>\n",
       "      <th>n_poly_t</th>\n",
       "      <th>genes</th>\n",
       "      <th>pos</th>\n",
       "    </tr>\n",
       "  </thead>\n",
       "  <tbody>\n",
       "    <tr>\n",
       "      <th>0</th>\n",
       "      <td>1</td>\n",
       "      <td>200983461452598</td>\n",
       "      <td>38446774684</td>\n",
       "      <td>0</td>\n",
       "      <td>0</td>\n",
       "      <td>0</td>\n",
       "    </tr>\n",
       "    <tr>\n",
       "      <th>1</th>\n",
       "      <td>1</td>\n",
       "      <td>232448540961013</td>\n",
       "      <td>40377936093</td>\n",
       "      <td>0</td>\n",
       "      <td>0</td>\n",
       "      <td>0</td>\n",
       "    </tr>\n",
       "    <tr>\n",
       "      <th>2</th>\n",
       "      <td>0</td>\n",
       "      <td>200570500499883</td>\n",
       "      <td>41267181429</td>\n",
       "      <td>0</td>\n",
       "      <td>225067</td>\n",
       "      <td>15611873</td>\n",
       "    </tr>\n",
       "    <tr>\n",
       "      <th>3</th>\n",
       "      <td>1</td>\n",
       "      <td>231772364696924</td>\n",
       "      <td>41564723102</td>\n",
       "      <td>0</td>\n",
       "      <td>0</td>\n",
       "      <td>0</td>\n",
       "    </tr>\n",
       "    <tr>\n",
       "      <th>4</th>\n",
       "      <td>1</td>\n",
       "      <td>227499945647347</td>\n",
       "      <td>39153163702</td>\n",
       "      <td>0</td>\n",
       "      <td>0</td>\n",
       "      <td>0</td>\n",
       "    </tr>\n",
       "    <tr>\n",
       "      <th>...</th>\n",
       "      <td>...</td>\n",
       "      <td>...</td>\n",
       "      <td>...</td>\n",
       "      <td>...</td>\n",
       "      <td>...</td>\n",
       "      <td>...</td>\n",
       "    </tr>\n",
       "    <tr>\n",
       "      <th>252730</th>\n",
       "      <td>1</td>\n",
       "      <td>169082619287347</td>\n",
       "      <td>49237838683</td>\n",
       "      <td>0</td>\n",
       "      <td>0</td>\n",
       "      <td>0</td>\n",
       "    </tr>\n",
       "    <tr>\n",
       "      <th>252731</th>\n",
       "      <td>1</td>\n",
       "      <td>164701771590046</td>\n",
       "      <td>57689455348</td>\n",
       "      <td>0</td>\n",
       "      <td>0</td>\n",
       "      <td>0</td>\n",
       "    </tr>\n",
       "    <tr>\n",
       "      <th>252732</th>\n",
       "      <td>1</td>\n",
       "      <td>169038985719156</td>\n",
       "      <td>33098951083</td>\n",
       "      <td>0</td>\n",
       "      <td>0</td>\n",
       "      <td>0</td>\n",
       "    </tr>\n",
       "    <tr>\n",
       "      <th>252733</th>\n",
       "      <td>1</td>\n",
       "      <td>231840668564334</td>\n",
       "      <td>31598787309</td>\n",
       "      <td>0</td>\n",
       "      <td>0</td>\n",
       "      <td>0</td>\n",
       "    </tr>\n",
       "    <tr>\n",
       "      <th>252734</th>\n",
       "      <td>1</td>\n",
       "      <td>161332457818475</td>\n",
       "      <td>32723551981</td>\n",
       "      <td>0</td>\n",
       "      <td>0</td>\n",
       "      <td>0</td>\n",
       "    </tr>\n",
       "  </tbody>\n",
       "</table>\n",
       "<p>252735 rows × 6 columns</p>\n",
       "</div>"
      ],
      "text/plain": [
       "        status             cell          rmt  n_poly_t   genes       pos\n",
       "0            1  200983461452598  38446774684         0       0         0\n",
       "1            1  232448540961013  40377936093         0       0         0\n",
       "2            0  200570500499883  41267181429         0  225067  15611873\n",
       "3            1  231772364696924  41564723102         0       0         0\n",
       "4            1  227499945647347  39153163702         0       0         0\n",
       "...        ...              ...          ...       ...     ...       ...\n",
       "252730       1  169082619287347  49237838683         0       0         0\n",
       "252731       1  164701771590046  57689455348         0       0         0\n",
       "252732       1  169038985719156  33098951083         0       0         0\n",
       "252733       1  231840668564334  31598787309         0       0         0\n",
       "252734       1  161332457818475  32723551981         0       0         0\n",
       "\n",
       "[252735 rows x 6 columns]"
      ]
     },
     "execution_count": 17,
     "metadata": {},
     "output_type": "execute_result"
    }
   ],
   "source": [
    "df_merged = pd.concat([df_data, df_genes, df_pos], axis=1)\n",
    "df_merged"
   ]
  },
  {
   "cell_type": "markdown",
   "metadata": {},
   "source": [
    "## Translate Cell Barcode"
   ]
  },
  {
   "cell_type": "code",
   "execution_count": 18,
   "metadata": {
    "ExecuteTime": {
     "end_time": "2021-06-16T19:12:18.944240Z",
     "start_time": "2021-06-16T19:12:18.941557Z"
    }
   },
   "outputs": [],
   "source": [
    "from seqc.sequence.encodings import DNA3Bit"
   ]
  },
  {
   "cell_type": "code",
   "execution_count": 19,
   "metadata": {
    "ExecuteTime": {
     "end_time": "2021-06-16T19:12:18.949090Z",
     "start_time": "2021-06-16T19:12:18.946305Z"
    }
   },
   "outputs": [],
   "source": [
    "dna3bit = DNA3Bit()"
   ]
  },
  {
   "cell_type": "code",
   "execution_count": 20,
   "metadata": {
    "ExecuteTime": {
     "end_time": "2021-06-16T19:12:19.803675Z",
     "start_time": "2021-06-16T19:12:18.951014Z"
    }
   },
   "outputs": [
    {
     "data": {
      "text/plain": [
       "0         GGGAGATTCACGGACC\n",
       "1         CACCAAAAGGACATCG\n",
       "2         GGACGTCGTTCAACGT\n",
       "3         CAGAGCCGTGCCCGTA\n",
       "4         CTGCATCGTAAGCTCT\n",
       "                ...       \n",
       "252730    ACTATCTGTGTGTACT\n",
       "252731    AGTAGCTCAGGCACTC\n",
       "252732    ACTTCGCAGAACCGCA\n",
       "252733    CAGGGCTAGATTGGGC\n",
       "252734    AAGTGAATCGGAAGGT\n",
       "Name: cell, Length: 252735, dtype: object"
      ]
     },
     "execution_count": 20,
     "metadata": {},
     "output_type": "execute_result"
    }
   ],
   "source": [
    "cb = df_merged.cell.apply(lambda x: dna3bit.decode(x).decode())\n",
    "cb"
   ]
  },
  {
   "cell_type": "code",
   "execution_count": 21,
   "metadata": {
    "ExecuteTime": {
     "end_time": "2021-06-16T19:12:20.480508Z",
     "start_time": "2021-06-16T19:12:19.805028Z"
    }
   },
   "outputs": [
    {
     "data": {
      "text/plain": [
       "0         ATCTACCTACTA\n",
       "1         AGACGGACATTG\n",
       "2         ACTTGGCTTGCG\n",
       "3         ACGGTACGTCTC\n",
       "4         AATGGGTGCCCC\n",
       "              ...     \n",
       "252730    GGCCCTTAGGTT\n",
       "252731    CGGCATCTGTCA\n",
       "252732    TCCACCTCACGT\n",
       "252733    TGTTTTCTGTGG\n",
       "252734    TCTCTCTATTGG\n",
       "Name: rmt, Length: 252735, dtype: object"
      ]
     },
     "execution_count": 21,
     "metadata": {},
     "output_type": "execute_result"
    }
   ],
   "source": [
    "umi = df_merged.rmt.apply(lambda x: dna3bit.decode(x).decode())\n",
    "umi"
   ]
  },
  {
   "cell_type": "code",
   "execution_count": 22,
   "metadata": {
    "ExecuteTime": {
     "end_time": "2021-06-16T19:12:20.500286Z",
     "start_time": "2021-06-16T19:12:20.482954Z"
    }
   },
   "outputs": [],
   "source": [
    "df_merged = df_merged.assign(cb=cb)\n",
    "df_merged = df_merged.assign(umi=umi)"
   ]
  },
  {
   "cell_type": "code",
   "execution_count": 23,
   "metadata": {
    "ExecuteTime": {
     "end_time": "2021-06-16T19:12:20.516066Z",
     "start_time": "2021-06-16T19:12:20.502137Z"
    }
   },
   "outputs": [
    {
     "data": {
      "text/html": [
       "<div>\n",
       "<style scoped>\n",
       "    .dataframe tbody tr th:only-of-type {\n",
       "        vertical-align: middle;\n",
       "    }\n",
       "\n",
       "    .dataframe tbody tr th {\n",
       "        vertical-align: top;\n",
       "    }\n",
       "\n",
       "    .dataframe thead th {\n",
       "        text-align: right;\n",
       "    }\n",
       "</style>\n",
       "<table border=\"1\" class=\"dataframe\">\n",
       "  <thead>\n",
       "    <tr style=\"text-align: right;\">\n",
       "      <th></th>\n",
       "      <th>status</th>\n",
       "      <th>cell</th>\n",
       "      <th>rmt</th>\n",
       "      <th>n_poly_t</th>\n",
       "      <th>genes</th>\n",
       "      <th>pos</th>\n",
       "      <th>cb</th>\n",
       "      <th>umi</th>\n",
       "    </tr>\n",
       "  </thead>\n",
       "  <tbody>\n",
       "    <tr>\n",
       "      <th>0</th>\n",
       "      <td>1</td>\n",
       "      <td>200983461452598</td>\n",
       "      <td>38446774684</td>\n",
       "      <td>0</td>\n",
       "      <td>0</td>\n",
       "      <td>0</td>\n",
       "      <td>GGGAGATTCACGGACC</td>\n",
       "      <td>ATCTACCTACTA</td>\n",
       "    </tr>\n",
       "    <tr>\n",
       "      <th>1</th>\n",
       "      <td>1</td>\n",
       "      <td>232448540961013</td>\n",
       "      <td>40377936093</td>\n",
       "      <td>0</td>\n",
       "      <td>0</td>\n",
       "      <td>0</td>\n",
       "      <td>CACCAAAAGGACATCG</td>\n",
       "      <td>AGACGGACATTG</td>\n",
       "    </tr>\n",
       "    <tr>\n",
       "      <th>2</th>\n",
       "      <td>0</td>\n",
       "      <td>200570500499883</td>\n",
       "      <td>41267181429</td>\n",
       "      <td>0</td>\n",
       "      <td>225067</td>\n",
       "      <td>15611873</td>\n",
       "      <td>GGACGTCGTTCAACGT</td>\n",
       "      <td>ACTTGGCTTGCG</td>\n",
       "    </tr>\n",
       "    <tr>\n",
       "      <th>3</th>\n",
       "      <td>1</td>\n",
       "      <td>231772364696924</td>\n",
       "      <td>41564723102</td>\n",
       "      <td>0</td>\n",
       "      <td>0</td>\n",
       "      <td>0</td>\n",
       "      <td>CAGAGCCGTGCCCGTA</td>\n",
       "      <td>ACGGTACGTCTC</td>\n",
       "    </tr>\n",
       "    <tr>\n",
       "      <th>4</th>\n",
       "      <td>1</td>\n",
       "      <td>227499945647347</td>\n",
       "      <td>39153163702</td>\n",
       "      <td>0</td>\n",
       "      <td>0</td>\n",
       "      <td>0</td>\n",
       "      <td>CTGCATCGTAAGCTCT</td>\n",
       "      <td>AATGGGTGCCCC</td>\n",
       "    </tr>\n",
       "    <tr>\n",
       "      <th>...</th>\n",
       "      <td>...</td>\n",
       "      <td>...</td>\n",
       "      <td>...</td>\n",
       "      <td>...</td>\n",
       "      <td>...</td>\n",
       "      <td>...</td>\n",
       "      <td>...</td>\n",
       "      <td>...</td>\n",
       "    </tr>\n",
       "    <tr>\n",
       "      <th>252730</th>\n",
       "      <td>1</td>\n",
       "      <td>169082619287347</td>\n",
       "      <td>49237838683</td>\n",
       "      <td>0</td>\n",
       "      <td>0</td>\n",
       "      <td>0</td>\n",
       "      <td>ACTATCTGTGTGTACT</td>\n",
       "      <td>GGCCCTTAGGTT</td>\n",
       "    </tr>\n",
       "    <tr>\n",
       "      <th>252731</th>\n",
       "      <td>1</td>\n",
       "      <td>164701771590046</td>\n",
       "      <td>57689455348</td>\n",
       "      <td>0</td>\n",
       "      <td>0</td>\n",
       "      <td>0</td>\n",
       "      <td>AGTAGCTCAGGCACTC</td>\n",
       "      <td>CGGCATCTGTCA</td>\n",
       "    </tr>\n",
       "    <tr>\n",
       "      <th>252732</th>\n",
       "      <td>1</td>\n",
       "      <td>169038985719156</td>\n",
       "      <td>33098951083</td>\n",
       "      <td>0</td>\n",
       "      <td>0</td>\n",
       "      <td>0</td>\n",
       "      <td>ACTTCGCAGAACCGCA</td>\n",
       "      <td>TCCACCTCACGT</td>\n",
       "    </tr>\n",
       "    <tr>\n",
       "      <th>252733</th>\n",
       "      <td>1</td>\n",
       "      <td>231840668564334</td>\n",
       "      <td>31598787309</td>\n",
       "      <td>0</td>\n",
       "      <td>0</td>\n",
       "      <td>0</td>\n",
       "      <td>CAGGGCTAGATTGGGC</td>\n",
       "      <td>TGTTTTCTGTGG</td>\n",
       "    </tr>\n",
       "    <tr>\n",
       "      <th>252734</th>\n",
       "      <td>1</td>\n",
       "      <td>161332457818475</td>\n",
       "      <td>32723551981</td>\n",
       "      <td>0</td>\n",
       "      <td>0</td>\n",
       "      <td>0</td>\n",
       "      <td>AAGTGAATCGGAAGGT</td>\n",
       "      <td>TCTCTCTATTGG</td>\n",
       "    </tr>\n",
       "  </tbody>\n",
       "</table>\n",
       "<p>252735 rows × 8 columns</p>\n",
       "</div>"
      ],
      "text/plain": [
       "        status             cell          rmt  n_poly_t   genes       pos  \\\n",
       "0            1  200983461452598  38446774684         0       0         0   \n",
       "1            1  232448540961013  40377936093         0       0         0   \n",
       "2            0  200570500499883  41267181429         0  225067  15611873   \n",
       "3            1  231772364696924  41564723102         0       0         0   \n",
       "4            1  227499945647347  39153163702         0       0         0   \n",
       "...        ...              ...          ...       ...     ...       ...   \n",
       "252730       1  169082619287347  49237838683         0       0         0   \n",
       "252731       1  164701771590046  57689455348         0       0         0   \n",
       "252732       1  169038985719156  33098951083         0       0         0   \n",
       "252733       1  231840668564334  31598787309         0       0         0   \n",
       "252734       1  161332457818475  32723551981         0       0         0   \n",
       "\n",
       "                      cb           umi  \n",
       "0       GGGAGATTCACGGACC  ATCTACCTACTA  \n",
       "1       CACCAAAAGGACATCG  AGACGGACATTG  \n",
       "2       GGACGTCGTTCAACGT  ACTTGGCTTGCG  \n",
       "3       CAGAGCCGTGCCCGTA  ACGGTACGTCTC  \n",
       "4       CTGCATCGTAAGCTCT  AATGGGTGCCCC  \n",
       "...                  ...           ...  \n",
       "252730  ACTATCTGTGTGTACT  GGCCCTTAGGTT  \n",
       "252731  AGTAGCTCAGGCACTC  CGGCATCTGTCA  \n",
       "252732  ACTTCGCAGAACCGCA  TCCACCTCACGT  \n",
       "252733  CAGGGCTAGATTGGGC  TGTTTTCTGTGG  \n",
       "252734  AAGTGAATCGGAAGGT  TCTCTCTATTGG  \n",
       "\n",
       "[252735 rows x 8 columns]"
      ]
     },
     "execution_count": 23,
     "metadata": {},
     "output_type": "execute_result"
    }
   ],
   "source": [
    "df_merged"
   ]
  },
  {
   "cell_type": "markdown",
   "metadata": {},
   "source": [
    "## Filtering"
   ]
  },
  {
   "cell_type": "code",
   "execution_count": 24,
   "metadata": {
    "ExecuteTime": {
     "end_time": "2021-06-16T19:12:20.600572Z",
     "start_time": "2021-06-16T19:12:20.517480Z"
    }
   },
   "outputs": [
    {
     "data": {
      "text/html": [
       "<div>\n",
       "<style scoped>\n",
       "    .dataframe tbody tr th:only-of-type {\n",
       "        vertical-align: middle;\n",
       "    }\n",
       "\n",
       "    .dataframe tbody tr th {\n",
       "        vertical-align: top;\n",
       "    }\n",
       "\n",
       "    .dataframe thead th {\n",
       "        text-align: right;\n",
       "    }\n",
       "</style>\n",
       "<table border=\"1\" class=\"dataframe\">\n",
       "  <thead>\n",
       "    <tr style=\"text-align: right;\">\n",
       "      <th></th>\n",
       "      <th>status</th>\n",
       "      <th>cell</th>\n",
       "      <th>rmt</th>\n",
       "      <th>n_poly_t</th>\n",
       "      <th>genes</th>\n",
       "      <th>pos</th>\n",
       "      <th>cb</th>\n",
       "      <th>umi</th>\n",
       "    </tr>\n",
       "  </thead>\n",
       "  <tbody>\n",
       "    <tr>\n",
       "      <th>2</th>\n",
       "      <td>0</td>\n",
       "      <td>200570500499883</td>\n",
       "      <td>41267181429</td>\n",
       "      <td>0</td>\n",
       "      <td>225067</td>\n",
       "      <td>15611873</td>\n",
       "      <td>GGACGTCGTTCAACGT</td>\n",
       "      <td>ACTTGGCTTGCG</td>\n",
       "    </tr>\n",
       "  </tbody>\n",
       "</table>\n",
       "</div>"
      ],
      "text/plain": [
       "   status             cell          rmt  n_poly_t   genes       pos  \\\n",
       "2       0  200570500499883  41267181429         0  225067  15611873   \n",
       "\n",
       "                 cb           umi  \n",
       "2  GGACGTCGTTCAACGT  ACTTGGCTTGCG  "
      ]
     },
     "execution_count": 24,
     "metadata": {},
     "output_type": "execute_result"
    }
   ],
   "source": [
    "# reads that are mapped to a gene (i.e. status=0)\n",
    "x = df_merged[ df_merged.status == 0 ].head(n=1)\n",
    "x"
   ]
  },
  {
   "cell_type": "code",
   "execution_count": 25,
   "metadata": {
    "ExecuteTime": {
     "end_time": "2021-06-16T19:12:20.606262Z",
     "start_time": "2021-06-16T19:12:20.602241Z"
    }
   },
   "outputs": [
    {
     "data": {
      "text/plain": [
       "'ACTTGGCTTGCG'"
      ]
     },
     "execution_count": 25,
     "metadata": {},
     "output_type": "execute_result"
    }
   ],
   "source": [
    "cb = x.iloc[0].umi\n",
    "cb"
   ]
  },
  {
   "cell_type": "code",
   "execution_count": 26,
   "metadata": {
    "ExecuteTime": {
     "end_time": "2021-06-16T19:12:20.611905Z",
     "start_time": "2021-06-16T19:12:20.607970Z"
    }
   },
   "outputs": [
    {
     "data": {
      "text/plain": [
       "'ACTTGGCTTGCG'"
      ]
     },
     "execution_count": 26,
     "metadata": {},
     "output_type": "execute_result"
    }
   ],
   "source": [
    "umi = x.iloc[0].umi\n",
    "umi"
   ]
  },
  {
   "cell_type": "code",
   "execution_count": 27,
   "metadata": {
    "ExecuteTime": {
     "end_time": "2021-06-16T19:12:20.617761Z",
     "start_time": "2021-06-16T19:12:20.613530Z"
    }
   },
   "outputs": [
    {
     "data": {
      "text/plain": [
       "'ENSG00000225067'"
      ]
     },
     "execution_count": 27,
     "metadata": {},
     "output_type": "execute_result"
    }
   ],
   "source": [
    "gene_id = \"ENSG{:011d}\".format(x.iloc[0].genes)\n",
    "gene_id"
   ]
  },
  {
   "cell_type": "markdown",
   "metadata": {},
   "source": [
    "### Look Up BAM"
   ]
  },
  {
   "cell_type": "code",
   "execution_count": 28,
   "metadata": {
    "ExecuteTime": {
     "end_time": "2021-06-16T19:12:22.475907Z",
     "start_time": "2021-06-16T19:12:20.619376Z"
    }
   },
   "outputs": [
    {
     "name": "stdout",
     "output_type": "stream",
     "text": [
      ":GGACGTCGTTCAACGT:ACTTGGCTTGCG:;A00228:279:HFWFVDMXX:1:1470:21450:5102\t0\tchr19\t15611873\t255\t24S67M\t*\t0\t0\tAGCAGTGGTATCAACGCAGAGTACATGGGATCATCAAGTTTCCGCTGACCACTGAGTCTGCCATGAAGAAGATAGAAGACAACAACACACT\tFFFFFFFFFFFFFFFFFFFFFFFFFFFFFFFFFFFFFFFFFFFFFFFFFFFFFFFFFFFFFFFFFFFFFFF:FFF:FFFFFFFFFFFFFFF\tNH:i:1\tHI:i:1\tAS:i:61\tnM:i:2\r\n"
     ]
    }
   ],
   "source": [
    "!samtools view \"$path_aligned_bam\" | grep \"$cb\" | grep \"$umi\""
   ]
  },
  {
   "cell_type": "markdown",
   "metadata": {},
   "source": [
    "### Look Up GTF"
   ]
  },
  {
   "cell_type": "code",
   "execution_count": 29,
   "metadata": {
    "ExecuteTime": {
     "end_time": "2021-06-16T19:12:23.704149Z",
     "start_time": "2021-06-16T19:12:22.477358Z"
    }
   },
   "outputs": [
    {
     "name": "stdout",
     "output_type": "stream",
     "text": [
      "chr19\tHAVANA\tgene\t15611657\t15612122\t.\t+\t.\tgene_id \"ENSG00000225067.4\"; gene_type \"processed_pseudogene\"; gene_status \"KNOWN\"; gene_name \"RPL23AP2\"; level 1; tag \"pseudo_consens\"; havana_gene \"OTTHUMG00000158039.3\";\n",
      "chr19\tHAVANA\ttranscript\t15611657\t15612122\t.\t+\t.\tgene_id \"ENSG00000225067.4\"; transcript_id \"ENST00000471227.3\"; gene_type \"processed_pseudogene\"; gene_status \"KNOWN\"; gene_name \"RPL23AP2\"; transcript_type \"processed_pseudogene\"; transcript_status \"KNOWN\"; transcript_name \"RPL23AP2-001\"; level 1; ont \"PGO:0000004\"; tag \"pseudo_consens\"; tag \"basic\"; transcript_support_level \"NA\"; havana_gene \"OTTHUMG00000158039.3\"; havana_transcript \"OTTHUMT00000350064.3\";\n",
      "chr19\tHAVANA\texon\t15611657\t15612122\t.\t+\t.\tgene_id \"ENSG00000225067.4\"; transcript_id \"ENST00000471227.3\"; gene_type \"processed_pseudogene\"; gene_status \"KNOWN\"; gene_name \"RPL23AP2\"; transcript_type \"processed_pseudogene\"; transcript_status \"KNOWN\"; transcript_name \"RPL23AP2-001\"; exon_number 1; exon_id \"ENSE00001824478.3\"; level 1; ont \"PGO:0000004\"; tag \"pseudo_consens\"; tag \"basic\"; transcript_support_level \"NA\"; havana_gene \"OTTHUMG00000158039.3\"; havana_transcript \"OTTHUMT00000350064.3\";\n"
     ]
    }
   ],
   "source": [
    "!gunzip -c \"$path_gtf\" | grep $gene_id"
   ]
  },
  {
   "cell_type": "code",
   "execution_count": null,
   "metadata": {},
   "outputs": [],
   "source": []
  }
 ],
 "metadata": {
  "kernelspec": {
   "display_name": "Python 3",
   "language": "python",
   "name": "python3"
  },
  "language_info": {
   "codemirror_mode": {
    "name": "ipython",
    "version": 3
   },
   "file_extension": ".py",
   "mimetype": "text/x-python",
   "name": "python",
   "nbconvert_exporter": "python",
   "pygments_lexer": "ipython3",
   "version": "3.7.7"
  },
  "toc": {
   "base_numbering": 1,
   "nav_menu": {},
   "number_sections": true,
   "sideBar": true,
   "skip_h1_title": false,
   "title_cell": "Table of Contents",
   "title_sidebar": "Contents",
   "toc_cell": false,
   "toc_position": {
    "height": "calc(100% - 180px)",
    "left": "10px",
    "top": "150px",
    "width": "212.594px"
   },
   "toc_section_display": true,
   "toc_window_display": true
  }
 },
 "nbformat": 4,
 "nbformat_minor": 4
}
